{
 "cells": [
  {
   "cell_type": "markdown",
   "metadata": {},
   "source": [
    "# Predicting Closed Companies Using Crunchbase Data"
   ]
  },
  {
   "cell_type": "code",
   "execution_count": 1,
   "metadata": {},
   "outputs": [],
   "source": [
    "# Loading the preamble:\n",
    "import csv\n",
    "import pandas as pd\n",
    "import matplotlib.pyplot as plt\n",
    "import numpy as np\n",
    "import seaborn as sns\n",
    "pd.options.display.float_format = '{:.4f}'.format\n",
    "import datetime as dt\n",
    "import matplotlib.dates as mdates\n",
    "%matplotlib inline\n",
    "plt.style.use('default')\n",
    "import warnings\n",
    "warnings.filterwarnings(\"ignore\")\n",
    "import sklearn\n",
    "from sklearn.utils import resample\n",
    "from sklearn import datasets, linear_model\n",
    "from sklearn.metrics import mean_squared_error, r2_score\n",
    "from sklearn import decomposition\n",
    "from sklearn.preprocessing import StandardScaler\n",
    "from sklearn.decomposition import PCA\n",
    "from sklearn.preprocessing import Imputer\n",
    "from sklearn.feature_selection import f_regression\n",
    "from sklearn.linear_model import LinearRegression\n",
    "import statsmodels.api as sm\n",
    "from scipy import stats\n",
    "from statsmodels.stats.outliers_influence import variance_inflation_factor\n",
    "from sklearn.model_selection import train_test_split\n",
    "from scipy import stats\n",
    "stats.chisqprob = lambda chisq, df: stats.chi2.sf(chisq, df)\n",
    "from sklearn import model_selection\n",
    "from sklearn.model_selection import cross_val_score\n",
    "from sklearn.linear_model import LogisticRegression\n",
    "from sklearn import metrics\n",
    "from sklearn.metrics import confusion_matrix\n",
    "import itertools\n",
    "from sklearn.metrics import roc_auc_score\n",
    "from sklearn.metrics import roc_curve\n",
    "from sklearn.feature_selection import SelectKBest\n",
    "from matplotlib import rcParams\n",
    "from sklearn.utils import resample\n",
    "rcParams.update({'figure.autolayout': True})"
   ]
  },
  {
   "cell_type": "code",
   "execution_count": 2,
   "metadata": {},
   "outputs": [],
   "source": [
    "# Loading datasets with information about companies and people of crunchbase.com\n",
    "crunchbase = pd.read_csv(\"crunchbase.csv\", encoding='mac_roman')\n",
    "people = pd.read_csv(\"people.csv\")"
   ]
  },
  {
   "cell_type": "markdown",
   "metadata": {},
   "source": [
    "## Data Manipulation and Exploratory Analysis"
   ]
  },
  {
   "cell_type": "code",
   "execution_count": 3,
   "metadata": {},
   "outputs": [
    {
     "data": {
      "text/html": [
       "<div>\n",
       "<style scoped>\n",
       "    .dataframe tbody tr th:only-of-type {\n",
       "        vertical-align: middle;\n",
       "    }\n",
       "\n",
       "    .dataframe tbody tr th {\n",
       "        vertical-align: top;\n",
       "    }\n",
       "\n",
       "    .dataframe thead th {\n",
       "        text-align: right;\n",
       "    }\n",
       "</style>\n",
       "<table border=\"1\" class=\"dataframe\">\n",
       "  <thead>\n",
       "    <tr style=\"text-align: right;\">\n",
       "      <th></th>\n",
       "      <th>name</th>\n",
       "      <th>homepage_url</th>\n",
       "      <th>market</th>\n",
       "      <th>funding_total_usd</th>\n",
       "      <th>status</th>\n",
       "      <th>country_code</th>\n",
       "      <th>state_code</th>\n",
       "      <th>region</th>\n",
       "      <th>city</th>\n",
       "      <th>funding_rounds</th>\n",
       "      <th>founded_at</th>\n",
       "      <th>founded_month</th>\n",
       "      <th>founded_quarter</th>\n",
       "      <th>founded_year</th>\n",
       "      <th>first_funding_at</th>\n",
       "      <th>last_funding_at</th>\n",
       "    </tr>\n",
       "  </thead>\n",
       "  <tbody>\n",
       "    <tr>\n",
       "      <th>0</th>\n",
       "      <td>#waywire</td>\n",
       "      <td>http://www.waywire.com</td>\n",
       "      <td>News</td>\n",
       "      <td>1,750,000</td>\n",
       "      <td>acquired</td>\n",
       "      <td>USA</td>\n",
       "      <td>NY</td>\n",
       "      <td>New York City</td>\n",
       "      <td>New York</td>\n",
       "      <td>1</td>\n",
       "      <td>6/1/12</td>\n",
       "      <td>2012-06</td>\n",
       "      <td>2012-Q2</td>\n",
       "      <td>2012.0000</td>\n",
       "      <td>6/30/12</td>\n",
       "      <td>6/30/12</td>\n",
       "    </tr>\n",
       "    <tr>\n",
       "      <th>1</th>\n",
       "      <td>&amp;TV Communications</td>\n",
       "      <td>http://enjoyandtv.com</td>\n",
       "      <td>Games</td>\n",
       "      <td>4,000,000</td>\n",
       "      <td>operating</td>\n",
       "      <td>USA</td>\n",
       "      <td>CA</td>\n",
       "      <td>Los Angeles</td>\n",
       "      <td>Los Angeles</td>\n",
       "      <td>2</td>\n",
       "      <td>NaN</td>\n",
       "      <td>NaN</td>\n",
       "      <td>NaN</td>\n",
       "      <td>nan</td>\n",
       "      <td>6/4/10</td>\n",
       "      <td>9/23/10</td>\n",
       "    </tr>\n",
       "    <tr>\n",
       "      <th>2</th>\n",
       "      <td>'Rock' Your Paper</td>\n",
       "      <td>http://www.rockyourpaper.org</td>\n",
       "      <td>Publishing</td>\n",
       "      <td>40,000</td>\n",
       "      <td>operating</td>\n",
       "      <td>EST</td>\n",
       "      <td>NaN</td>\n",
       "      <td>Tallinn</td>\n",
       "      <td>Tallinn</td>\n",
       "      <td>1</td>\n",
       "      <td>10/26/12</td>\n",
       "      <td>2012-10</td>\n",
       "      <td>2012-Q4</td>\n",
       "      <td>2012.0000</td>\n",
       "      <td>8/9/12</td>\n",
       "      <td>8/9/12</td>\n",
       "    </tr>\n",
       "    <tr>\n",
       "      <th>3</th>\n",
       "      <td>(In)Touch Network</td>\n",
       "      <td>http://www.InTouchNetwork.com</td>\n",
       "      <td>Electronics</td>\n",
       "      <td>1,500,000</td>\n",
       "      <td>operating</td>\n",
       "      <td>GBR</td>\n",
       "      <td>NaN</td>\n",
       "      <td>London</td>\n",
       "      <td>London</td>\n",
       "      <td>1</td>\n",
       "      <td>4/1/11</td>\n",
       "      <td>2011-04</td>\n",
       "      <td>2011-Q2</td>\n",
       "      <td>2011.0000</td>\n",
       "      <td>4/1/11</td>\n",
       "      <td>4/1/11</td>\n",
       "    </tr>\n",
       "    <tr>\n",
       "      <th>4</th>\n",
       "      <td>#NAME?</td>\n",
       "      <td>http://plusn.com</td>\n",
       "      <td>Software</td>\n",
       "      <td>1,200,000</td>\n",
       "      <td>operating</td>\n",
       "      <td>USA</td>\n",
       "      <td>NY</td>\n",
       "      <td>New York City</td>\n",
       "      <td>New York</td>\n",
       "      <td>2</td>\n",
       "      <td>1/1/12</td>\n",
       "      <td>2012-01</td>\n",
       "      <td>2012-Q1</td>\n",
       "      <td>2012.0000</td>\n",
       "      <td>8/29/12</td>\n",
       "      <td>9/4/14</td>\n",
       "    </tr>\n",
       "  </tbody>\n",
       "</table>\n",
       "</div>"
      ],
      "text/plain": [
       "                 name                   homepage_url        market   \\\n",
       "0            #waywire         http://www.waywire.com          News    \n",
       "1  &TV Communications          http://enjoyandtv.com         Games    \n",
       "2   'Rock' Your Paper   http://www.rockyourpaper.org    Publishing    \n",
       "3   (In)Touch Network  http://www.InTouchNetwork.com   Electronics    \n",
       "4              #NAME?               http://plusn.com      Software    \n",
       "\n",
       "   funding_total_usd      status country_code state_code         region  \\\n",
       "0           1,750,000   acquired          USA         NY  New York City   \n",
       "1           4,000,000  operating          USA         CA    Los Angeles   \n",
       "2              40,000  operating          EST        NaN        Tallinn   \n",
       "3           1,500,000  operating          GBR        NaN         London   \n",
       "4           1,200,000  operating          USA         NY  New York City   \n",
       "\n",
       "          city  funding_rounds founded_at founded_month founded_quarter  \\\n",
       "0     New York               1     6/1/12       2012-06         2012-Q2   \n",
       "1  Los Angeles               2        NaN           NaN             NaN   \n",
       "2      Tallinn               1   10/26/12       2012-10         2012-Q4   \n",
       "3       London               1     4/1/11       2011-04         2011-Q2   \n",
       "4     New York               2     1/1/12       2012-01         2012-Q1   \n",
       "\n",
       "   founded_year first_funding_at last_funding_at  \n",
       "0     2012.0000          6/30/12         6/30/12  \n",
       "1           nan           6/4/10         9/23/10  \n",
       "2     2012.0000           8/9/12          8/9/12  \n",
       "3     2011.0000           4/1/11          4/1/11  \n",
       "4     2012.0000          8/29/12          9/4/14  "
      ]
     },
     "execution_count": 3,
     "metadata": {},
     "output_type": "execute_result"
    }
   ],
   "source": [
    "# Peak at the data\n",
    "crunchbase.head()"
   ]
  },
  {
   "cell_type": "code",
   "execution_count": 4,
   "metadata": {},
   "outputs": [
    {
     "data": {
      "text/plain": [
       "operating    39675\n",
       "acquired      3508\n",
       "closed        2846\n",
       "Name: status, dtype: int64"
      ]
     },
     "execution_count": 4,
     "metadata": {},
     "output_type": "execute_result"
    }
   ],
   "source": [
    "crunchbase.status.value_counts()"
   ]
  },
  {
   "cell_type": "code",
   "execution_count": 5,
   "metadata": {},
   "outputs": [
    {
     "data": {
      "text/plain": [
       "['name',\n",
       " 'homepage_url',\n",
       " ' market ',\n",
       " ' funding_total_usd ',\n",
       " 'status',\n",
       " 'country_code',\n",
       " 'state_code',\n",
       " 'region',\n",
       " 'city',\n",
       " 'funding_rounds',\n",
       " 'founded_at',\n",
       " 'founded_month',\n",
       " 'founded_quarter',\n",
       " 'founded_year',\n",
       " 'first_funding_at',\n",
       " 'last_funding_at']"
      ]
     },
     "execution_count": 5,
     "metadata": {},
     "output_type": "execute_result"
    }
   ],
   "source": [
    "list(crunchbase.columns)"
   ]
  },
  {
   "cell_type": "code",
   "execution_count": 6,
   "metadata": {},
   "outputs": [
    {
     "data": {
      "text/html": [
       "<div>\n",
       "<style scoped>\n",
       "    .dataframe tbody tr th:only-of-type {\n",
       "        vertical-align: middle;\n",
       "    }\n",
       "\n",
       "    .dataframe tbody tr th {\n",
       "        vertical-align: top;\n",
       "    }\n",
       "\n",
       "    .dataframe thead th {\n",
       "        text-align: right;\n",
       "    }\n",
       "</style>\n",
       "<table border=\"1\" class=\"dataframe\">\n",
       "  <thead>\n",
       "    <tr style=\"text-align: right;\">\n",
       "      <th></th>\n",
       "      <th>crunchbase_uuid</th>\n",
       "      <th>type</th>\n",
       "      <th>first_name</th>\n",
       "      <th>last_name</th>\n",
       "      <th>crunchbase_url</th>\n",
       "      <th>profile_image_url</th>\n",
       "      <th>facebook_url</th>\n",
       "      <th>twitter_url</th>\n",
       "      <th>linkedin_url</th>\n",
       "      <th>location_city</th>\n",
       "      <th>location_region</th>\n",
       "      <th>location_country_code</th>\n",
       "      <th>title</th>\n",
       "      <th>organization</th>\n",
       "      <th>organization_crunchbase_url</th>\n",
       "    </tr>\n",
       "  </thead>\n",
       "  <tbody>\n",
       "    <tr>\n",
       "      <th>0</th>\n",
       "      <td>ed13cd36-fe2b-3707-197b-0c2d56e37a71</td>\n",
       "      <td>Person</td>\n",
       "      <td>Ben</td>\n",
       "      <td>Elowitz</td>\n",
       "      <td>https://www.crunchbase.com/person/ben-elowitz?...</td>\n",
       "      <td>https://crunchbase-production-res.cloudinary.c...</td>\n",
       "      <td>http://www.facebook.com/elowitz</td>\n",
       "      <td>http://twitter.com/elowitz</td>\n",
       "      <td>http://www.linkedin.com/in/benelowitz</td>\n",
       "      <td>NaN</td>\n",
       "      <td>NaN</td>\n",
       "      <td>NaN</td>\n",
       "      <td>Advisor at Connected Signals, Inc.</td>\n",
       "      <td>Connected Signals, Inc.</td>\n",
       "      <td>https://www.crunchbase.com/organization/connec...</td>\n",
       "    </tr>\n",
       "    <tr>\n",
       "      <th>1</th>\n",
       "      <td>5ceca97b-493c-1446-6249-5aaa33464763</td>\n",
       "      <td>Person</td>\n",
       "      <td>Kevin</td>\n",
       "      <td>Flaherty</td>\n",
       "      <td>https://www.crunchbase.com/person/kevin-flaher...</td>\n",
       "      <td>https://crunchbase-production-res.cloudinary.c...</td>\n",
       "      <td>NaN</td>\n",
       "      <td>https://twitter.com/tallkp</td>\n",
       "      <td>http://www.linkedin.com/in/kevinflaherty</td>\n",
       "      <td>NaN</td>\n",
       "      <td>NaN</td>\n",
       "      <td>NaN</td>\n",
       "      <td>Team Member at DRSmedia</td>\n",
       "      <td>DRSmedia</td>\n",
       "      <td>https://www.crunchbase.com/organization/drs650...</td>\n",
       "    </tr>\n",
       "    <tr>\n",
       "      <th>2</th>\n",
       "      <td>9f99a98a-aa97-b30b-0d36-db67c1d277e0</td>\n",
       "      <td>Person</td>\n",
       "      <td>Raju</td>\n",
       "      <td>Vegesna</td>\n",
       "      <td>https://www.crunchbase.com/person/raju-vegesna...</td>\n",
       "      <td>https://crunchbase-production-res.cloudinary.c...</td>\n",
       "      <td>NaN</td>\n",
       "      <td>NaN</td>\n",
       "      <td>https://www.linkedin.com/pub/raju-vegesna/1/65...</td>\n",
       "      <td>San Francisco</td>\n",
       "      <td>California</td>\n",
       "      <td>US</td>\n",
       "      <td>Chief Evangelist at Zoho</td>\n",
       "      <td>Zoho</td>\n",
       "      <td>https://www.crunchbase.com/organization/zoho</td>\n",
       "    </tr>\n",
       "    <tr>\n",
       "      <th>3</th>\n",
       "      <td>6e1bca72-a865-b518-b305-31214ce2d1b0</td>\n",
       "      <td>Person</td>\n",
       "      <td>Ian</td>\n",
       "      <td>Wenig</td>\n",
       "      <td>https://www.crunchbase.com/person/ian-wenig?ut...</td>\n",
       "      <td>https://crunchbase-production-res.cloudinary.c...</td>\n",
       "      <td>NaN</td>\n",
       "      <td>NaN</td>\n",
       "      <td>http://www.linkedin.com/profile/view?id=1633445</td>\n",
       "      <td>NaN</td>\n",
       "      <td>NaN</td>\n",
       "      <td>NaN</td>\n",
       "      <td>VP Business Development at Zoho</td>\n",
       "      <td>Zoho</td>\n",
       "      <td>https://www.crunchbase.com/organization/zoho</td>\n",
       "    </tr>\n",
       "    <tr>\n",
       "      <th>4</th>\n",
       "      <td>80d25c23-9726-9dda-5852-39cdf4810ea5</td>\n",
       "      <td>Person</td>\n",
       "      <td>Ron</td>\n",
       "      <td>Gorodetzky</td>\n",
       "      <td>https://www.crunchbase.com/person/ron-gorodetz...</td>\n",
       "      <td>https://crunchbase-production-res.cloudinary.c...</td>\n",
       "      <td>NaN</td>\n",
       "      <td>NaN</td>\n",
       "      <td>https://twitter.com/ronwinbeta</td>\n",
       "      <td>NaN</td>\n",
       "      <td>NaN</td>\n",
       "      <td>NaN</td>\n",
       "      <td>Co-Founder and CTO at fflick</td>\n",
       "      <td>fflick</td>\n",
       "      <td>https://www.crunchbase.com/organization/fflick</td>\n",
       "    </tr>\n",
       "  </tbody>\n",
       "</table>\n",
       "</div>"
      ],
      "text/plain": [
       "                        crunchbase_uuid    type first_name   last_name  \\\n",
       "0  ed13cd36-fe2b-3707-197b-0c2d56e37a71  Person        Ben     Elowitz   \n",
       "1  5ceca97b-493c-1446-6249-5aaa33464763  Person      Kevin    Flaherty   \n",
       "2  9f99a98a-aa97-b30b-0d36-db67c1d277e0  Person       Raju     Vegesna   \n",
       "3  6e1bca72-a865-b518-b305-31214ce2d1b0  Person        Ian       Wenig   \n",
       "4  80d25c23-9726-9dda-5852-39cdf4810ea5  Person        Ron  Gorodetzky   \n",
       "\n",
       "                                      crunchbase_url  \\\n",
       "0  https://www.crunchbase.com/person/ben-elowitz?...   \n",
       "1  https://www.crunchbase.com/person/kevin-flaher...   \n",
       "2  https://www.crunchbase.com/person/raju-vegesna...   \n",
       "3  https://www.crunchbase.com/person/ian-wenig?ut...   \n",
       "4  https://www.crunchbase.com/person/ron-gorodetz...   \n",
       "\n",
       "                                   profile_image_url  \\\n",
       "0  https://crunchbase-production-res.cloudinary.c...   \n",
       "1  https://crunchbase-production-res.cloudinary.c...   \n",
       "2  https://crunchbase-production-res.cloudinary.c...   \n",
       "3  https://crunchbase-production-res.cloudinary.c...   \n",
       "4  https://crunchbase-production-res.cloudinary.c...   \n",
       "\n",
       "                      facebook_url                 twitter_url  \\\n",
       "0  http://www.facebook.com/elowitz  http://twitter.com/elowitz   \n",
       "1                              NaN  https://twitter.com/tallkp   \n",
       "2                              NaN                         NaN   \n",
       "3                              NaN                         NaN   \n",
       "4                              NaN                         NaN   \n",
       "\n",
       "                                        linkedin_url  location_city  \\\n",
       "0              http://www.linkedin.com/in/benelowitz            NaN   \n",
       "1           http://www.linkedin.com/in/kevinflaherty            NaN   \n",
       "2  https://www.linkedin.com/pub/raju-vegesna/1/65...  San Francisco   \n",
       "3    http://www.linkedin.com/profile/view?id=1633445            NaN   \n",
       "4                     https://twitter.com/ronwinbeta            NaN   \n",
       "\n",
       "  location_region location_country_code                               title  \\\n",
       "0             NaN                   NaN  Advisor at Connected Signals, Inc.   \n",
       "1             NaN                   NaN             Team Member at DRSmedia   \n",
       "2      California                    US            Chief Evangelist at Zoho   \n",
       "3             NaN                   NaN     VP Business Development at Zoho   \n",
       "4             NaN                   NaN        Co-Founder and CTO at fflick   \n",
       "\n",
       "              organization                        organization_crunchbase_url  \n",
       "0  Connected Signals, Inc.  https://www.crunchbase.com/organization/connec...  \n",
       "1                 DRSmedia  https://www.crunchbase.com/organization/drs650...  \n",
       "2                     Zoho       https://www.crunchbase.com/organization/zoho  \n",
       "3                     Zoho       https://www.crunchbase.com/organization/zoho  \n",
       "4                   fflick     https://www.crunchbase.com/organization/fflick  "
      ]
     },
     "execution_count": 6,
     "metadata": {},
     "output_type": "execute_result"
    }
   ],
   "source": [
    "people.head()"
   ]
  },
  {
   "cell_type": "code",
   "execution_count": 7,
   "metadata": {},
   "outputs": [
    {
     "data": {
      "text/plain": [
       "['crunchbase_uuid',\n",
       " 'type',\n",
       " 'first_name',\n",
       " 'last_name',\n",
       " 'crunchbase_url',\n",
       " 'profile_image_url',\n",
       " 'facebook_url',\n",
       " 'twitter_url',\n",
       " 'linkedin_url',\n",
       " 'location_city',\n",
       " 'location_region',\n",
       " 'location_country_code',\n",
       " 'title',\n",
       " 'organization',\n",
       " 'organization_crunchbase_url']"
      ]
     },
     "execution_count": 7,
     "metadata": {},
     "output_type": "execute_result"
    }
   ],
   "source": [
    "list(people.columns)"
   ]
  },
  {
   "cell_type": "code",
   "execution_count": 8,
   "metadata": {},
   "outputs": [],
   "source": [
    "crunchbase = crunchbase.rename(columns={' funding_total_usd ': 'funding_total_usd',' market ' : 'market'})"
   ]
  },
  {
   "cell_type": "code",
   "execution_count": 9,
   "metadata": {},
   "outputs": [
    {
     "data": {
      "text/plain": [
       "name                  object\n",
       "homepage_url          object\n",
       "market                object\n",
       "funding_total_usd     object\n",
       "status                object\n",
       "country_code          object\n",
       "state_code            object\n",
       "region                object\n",
       "city                  object\n",
       "funding_rounds         int64\n",
       "founded_at            object\n",
       "founded_month         object\n",
       "founded_quarter       object\n",
       "founded_year         float64\n",
       "first_funding_at      object\n",
       "last_funding_at       object\n",
       "dtype: object"
      ]
     },
     "execution_count": 9,
     "metadata": {},
     "output_type": "execute_result"
    }
   ],
   "source": [
    "crunchbase.dtypes"
   ]
  },
  {
   "cell_type": "code",
   "execution_count": 10,
   "metadata": {},
   "outputs": [],
   "source": [
    "# Tranforming funding column to numerical format\n",
    "crunchbase['funding_total_usd'] = crunchbase['funding_total_usd'].replace(',', '', regex=True)\n",
    "crunchbase['funding_total_usd'] = crunchbase['funding_total_usd'].replace('-', '0', regex=True)\n",
    "crunchbase['funding_total_usd'] = pd.to_numeric(crunchbase['funding_total_usd'])\n",
    "crunchbase['funding_total_usd'] = crunchbase['funding_total_usd'].astype(float)"
   ]
  },
  {
   "cell_type": "code",
   "execution_count": 11,
   "metadata": {},
   "outputs": [
    {
     "data": {
      "text/plain": [
       "count         47758.0000\n",
       "mean       14823086.7894\n",
       "std       392557453.6164\n",
       "min               0.0000\n",
       "25%           54319.0000\n",
       "50%         1015000.0000\n",
       "75%         7000000.0000\n",
       "max     78795064652.0000\n",
       "Name: funding_total_usd, dtype: float64"
      ]
     },
     "execution_count": 11,
     "metadata": {},
     "output_type": "execute_result"
    }
   ],
   "source": [
    "crunchbase['funding_total_usd'].describe()"
   ]
  },
  {
   "cell_type": "code",
   "execution_count": 12,
   "metadata": {},
   "outputs": [
    {
     "data": {
      "text/plain": [
       "count   47758.0000\n",
       "mean        1.6886\n",
       "std         1.2821\n",
       "min         1.0000\n",
       "25%         1.0000\n",
       "50%         1.0000\n",
       "75%         2.0000\n",
       "max        17.0000\n",
       "Name: funding_rounds, dtype: float64"
      ]
     },
     "execution_count": 12,
     "metadata": {},
     "output_type": "execute_result"
    }
   ],
   "source": [
    "crunchbase['funding_rounds'].describe()"
   ]
  },
  {
   "cell_type": "code",
   "execution_count": 13,
   "metadata": {},
   "outputs": [
    {
     "data": {
      "text/plain": [
       "count          42465\n",
       "unique           717\n",
       "top        Software \n",
       "freq            4534\n",
       "Name: market, dtype: object"
      ]
     },
     "execution_count": 13,
     "metadata": {},
     "output_type": "execute_result"
    }
   ],
   "source": [
    "crunchbase['market'].describe()"
   ]
  },
  {
   "cell_type": "code",
   "execution_count": 14,
   "metadata": {},
   "outputs": [
    {
     "data": {
      "text/plain": [
       " Software         0.1068\n",
       " Biotechnology    0.0861\n",
       " Mobile           0.0462\n",
       " E-Commerce       0.0418\n",
       " Curated Web      0.0390\n",
       "Name: market, dtype: float64"
      ]
     },
     "execution_count": 14,
     "metadata": {},
     "output_type": "execute_result"
    }
   ],
   "source": [
    "# Top 5 markets by company count\n",
    "crunchbase['market'].value_counts(normalize=True).head(5)"
   ]
  },
  {
   "cell_type": "code",
   "execution_count": 15,
   "metadata": {},
   "outputs": [
    {
     "data": {
      "text/plain": [
       "USA   0.6540\n",
       "GBR   0.0598\n",
       "CAN   0.0315\n",
       "CHN   0.0283\n",
       "DEU   0.0214\n",
       "FRA   0.0197\n",
       "IND   0.0182\n",
       "ISR   0.0152\n",
       "ESP   0.0118\n",
       "JPN   0.0089\n",
       "Name: country_code, dtype: float64"
      ]
     },
     "execution_count": 15,
     "metadata": {},
     "output_type": "execute_result"
    }
   ],
   "source": [
    "# Top 10 countries by company count\n",
    "crunchbase['country_code'].value_counts(normalize=True).head(10)"
   ]
  },
  {
   "cell_type": "code",
   "execution_count": 16,
   "metadata": {},
   "outputs": [
    {
     "data": {
      "text/plain": [
       "operating   0.8620\n",
       "acquired    0.0762\n",
       "closed      0.0618\n",
       "Name: status, dtype: float64"
      ]
     },
     "execution_count": 16,
     "metadata": {},
     "output_type": "execute_result"
    }
   ],
   "source": [
    "crunchbase['status'].value_counts(normalize=True).head()\n",
    "\n",
    "# only around 6% of companies present on crunchbase.com are registered as \"closed\""
   ]
  },
  {
   "cell_type": "code",
   "execution_count": 17,
   "metadata": {},
   "outputs": [
    {
     "data": {
      "text/plain": [
       "47672"
      ]
     },
     "execution_count": 17,
     "metadata": {},
     "output_type": "execute_result"
    }
   ],
   "source": [
    "# Check number of unique companies in dataframe\n",
    "crunchbase['name'].nunique()"
   ]
  },
  {
   "cell_type": "code",
   "execution_count": 18,
   "metadata": {},
   "outputs": [
    {
     "name": "stdout",
     "output_type": "stream",
     "text": [
      "Median funding: $1015000.0\n"
     ]
    }
   ],
   "source": [
    "# Check median of funding\n",
    "print(\"Median funding: ${}\".format(crunchbase['funding_total_usd'].median()))"
   ]
  },
  {
   "cell_type": "code",
   "execution_count": 19,
   "metadata": {},
   "outputs": [],
   "source": [
    "# Aggregate people on chrunchbase by organisation/company\n",
    "people = people.groupby(['organization']).agg({'crunchbase_uuid': \"nunique\"})"
   ]
  },
  {
   "cell_type": "code",
   "execution_count": 20,
   "metadata": {},
   "outputs": [
    {
     "data": {
      "text/html": [
       "<div>\n",
       "<style scoped>\n",
       "    .dataframe tbody tr th:only-of-type {\n",
       "        vertical-align: middle;\n",
       "    }\n",
       "\n",
       "    .dataframe tbody tr th {\n",
       "        vertical-align: top;\n",
       "    }\n",
       "\n",
       "    .dataframe thead th {\n",
       "        text-align: right;\n",
       "    }\n",
       "</style>\n",
       "<table border=\"1\" class=\"dataframe\">\n",
       "  <thead>\n",
       "    <tr style=\"text-align: right;\">\n",
       "      <th></th>\n",
       "      <th>crunchbase_uuid</th>\n",
       "    </tr>\n",
       "    <tr>\n",
       "      <th>organization</th>\n",
       "      <th></th>\n",
       "    </tr>\n",
       "  </thead>\n",
       "  <tbody>\n",
       "    <tr>\n",
       "      <th>\\nBELL RESOURCES</th>\n",
       "      <td>1</td>\n",
       "    </tr>\n",
       "    <tr>\n",
       "      <th>\\nCentiel</th>\n",
       "      <td>1</td>\n",
       "    </tr>\n",
       "    <tr>\n",
       "      <th>\\nCoalition</th>\n",
       "      <td>2</td>\n",
       "    </tr>\n",
       "    <tr>\n",
       "      <th>\\nCurofy</th>\n",
       "      <td>2</td>\n",
       "    </tr>\n",
       "    <tr>\n",
       "      <th>\\nDataBroker DAO</th>\n",
       "      <td>4</td>\n",
       "    </tr>\n",
       "  </tbody>\n",
       "</table>\n",
       "</div>"
      ],
      "text/plain": [
       "                  crunchbase_uuid\n",
       "organization                     \n",
       "\\nBELL RESOURCES                1\n",
       "\\nCentiel                       1\n",
       "\\nCoalition                     2\n",
       "\\nCurofy                        2\n",
       "\\nDataBroker DAO                4"
      ]
     },
     "execution_count": 20,
     "metadata": {},
     "output_type": "execute_result"
    }
   ],
   "source": [
    "people.head()"
   ]
  },
  {
   "cell_type": "code",
   "execution_count": 21,
   "metadata": {},
   "outputs": [
    {
     "data": {
      "text/html": [
       "<div>\n",
       "<style scoped>\n",
       "    .dataframe tbody tr th:only-of-type {\n",
       "        vertical-align: middle;\n",
       "    }\n",
       "\n",
       "    .dataframe tbody tr th {\n",
       "        vertical-align: top;\n",
       "    }\n",
       "\n",
       "    .dataframe thead th {\n",
       "        text-align: right;\n",
       "    }\n",
       "</style>\n",
       "<table border=\"1\" class=\"dataframe\">\n",
       "  <thead>\n",
       "    <tr style=\"text-align: right;\">\n",
       "      <th></th>\n",
       "      <th>crunchbase_uuid</th>\n",
       "    </tr>\n",
       "  </thead>\n",
       "  <tbody>\n",
       "    <tr>\n",
       "      <th>count</th>\n",
       "      <td>208928.0000</td>\n",
       "    </tr>\n",
       "    <tr>\n",
       "      <th>mean</th>\n",
       "      <td>2.7647</td>\n",
       "    </tr>\n",
       "    <tr>\n",
       "      <th>std</th>\n",
       "      <td>7.0069</td>\n",
       "    </tr>\n",
       "    <tr>\n",
       "      <th>min</th>\n",
       "      <td>1.0000</td>\n",
       "    </tr>\n",
       "    <tr>\n",
       "      <th>25%</th>\n",
       "      <td>1.0000</td>\n",
       "    </tr>\n",
       "    <tr>\n",
       "      <th>50%</th>\n",
       "      <td>2.0000</td>\n",
       "    </tr>\n",
       "    <tr>\n",
       "      <th>75%</th>\n",
       "      <td>3.0000</td>\n",
       "    </tr>\n",
       "    <tr>\n",
       "      <th>max</th>\n",
       "      <td>1336.0000</td>\n",
       "    </tr>\n",
       "  </tbody>\n",
       "</table>\n",
       "</div>"
      ],
      "text/plain": [
       "       crunchbase_uuid\n",
       "count      208928.0000\n",
       "mean            2.7647\n",
       "std             7.0069\n",
       "min             1.0000\n",
       "25%             1.0000\n",
       "50%             2.0000\n",
       "75%             3.0000\n",
       "max          1336.0000"
      ]
     },
     "execution_count": 21,
     "metadata": {},
     "output_type": "execute_result"
    }
   ],
   "source": [
    "people.describe()"
   ]
  },
  {
   "cell_type": "code",
   "execution_count": 22,
   "metadata": {},
   "outputs": [],
   "source": [
    "# This will create a new index (from 0 to XY), organization will become a column \n",
    "people = people.reset_index()"
   ]
  },
  {
   "cell_type": "code",
   "execution_count": 23,
   "metadata": {},
   "outputs": [
    {
     "data": {
      "text/html": [
       "<div>\n",
       "<style scoped>\n",
       "    .dataframe tbody tr th:only-of-type {\n",
       "        vertical-align: middle;\n",
       "    }\n",
       "\n",
       "    .dataframe tbody tr th {\n",
       "        vertical-align: top;\n",
       "    }\n",
       "\n",
       "    .dataframe thead th {\n",
       "        text-align: right;\n",
       "    }\n",
       "</style>\n",
       "<table border=\"1\" class=\"dataframe\">\n",
       "  <thead>\n",
       "    <tr style=\"text-align: right;\">\n",
       "      <th></th>\n",
       "      <th>organization</th>\n",
       "      <th>crunchbase_uuid</th>\n",
       "    </tr>\n",
       "  </thead>\n",
       "  <tbody>\n",
       "    <tr>\n",
       "      <th>0</th>\n",
       "      <td>\\nBELL RESOURCES</td>\n",
       "      <td>1</td>\n",
       "    </tr>\n",
       "    <tr>\n",
       "      <th>1</th>\n",
       "      <td>\\nCentiel</td>\n",
       "      <td>1</td>\n",
       "    </tr>\n",
       "    <tr>\n",
       "      <th>2</th>\n",
       "      <td>\\nCoalition</td>\n",
       "      <td>2</td>\n",
       "    </tr>\n",
       "    <tr>\n",
       "      <th>3</th>\n",
       "      <td>\\nCurofy</td>\n",
       "      <td>2</td>\n",
       "    </tr>\n",
       "    <tr>\n",
       "      <th>4</th>\n",
       "      <td>\\nDataBroker DAO</td>\n",
       "      <td>4</td>\n",
       "    </tr>\n",
       "  </tbody>\n",
       "</table>\n",
       "</div>"
      ],
      "text/plain": [
       "       organization  crunchbase_uuid\n",
       "0  \\nBELL RESOURCES                1\n",
       "1         \\nCentiel                1\n",
       "2       \\nCoalition                2\n",
       "3         \\nCurofy                 2\n",
       "4  \\nDataBroker DAO                4"
      ]
     },
     "execution_count": 23,
     "metadata": {},
     "output_type": "execute_result"
    }
   ],
   "source": [
    "people.head()"
   ]
  },
  {
   "cell_type": "code",
   "execution_count": 24,
   "metadata": {},
   "outputs": [],
   "source": [
    "# Get rid of \\n\n",
    "people['organization'] = people['organization'].replace('\\n', '', regex=True)"
   ]
  },
  {
   "cell_type": "code",
   "execution_count": 25,
   "metadata": {},
   "outputs": [
    {
     "data": {
      "text/html": [
       "<div>\n",
       "<style scoped>\n",
       "    .dataframe tbody tr th:only-of-type {\n",
       "        vertical-align: middle;\n",
       "    }\n",
       "\n",
       "    .dataframe tbody tr th {\n",
       "        vertical-align: top;\n",
       "    }\n",
       "\n",
       "    .dataframe thead th {\n",
       "        text-align: right;\n",
       "    }\n",
       "</style>\n",
       "<table border=\"1\" class=\"dataframe\">\n",
       "  <thead>\n",
       "    <tr style=\"text-align: right;\">\n",
       "      <th></th>\n",
       "      <th>organization</th>\n",
       "      <th>crunchbase_uuid</th>\n",
       "    </tr>\n",
       "  </thead>\n",
       "  <tbody>\n",
       "    <tr>\n",
       "      <th>0</th>\n",
       "      <td>BELL RESOURCES</td>\n",
       "      <td>1</td>\n",
       "    </tr>\n",
       "    <tr>\n",
       "      <th>1</th>\n",
       "      <td>Centiel</td>\n",
       "      <td>1</td>\n",
       "    </tr>\n",
       "    <tr>\n",
       "      <th>2</th>\n",
       "      <td>Coalition</td>\n",
       "      <td>2</td>\n",
       "    </tr>\n",
       "    <tr>\n",
       "      <th>3</th>\n",
       "      <td>Curofy</td>\n",
       "      <td>2</td>\n",
       "    </tr>\n",
       "    <tr>\n",
       "      <th>4</th>\n",
       "      <td>DataBroker DAO</td>\n",
       "      <td>4</td>\n",
       "    </tr>\n",
       "  </tbody>\n",
       "</table>\n",
       "</div>"
      ],
      "text/plain": [
       "     organization  crunchbase_uuid\n",
       "0  BELL RESOURCES                1\n",
       "1         Centiel                1\n",
       "2       Coalition                2\n",
       "3         Curofy                 2\n",
       "4  DataBroker DAO                4"
      ]
     },
     "execution_count": 25,
     "metadata": {},
     "output_type": "execute_result"
    }
   ],
   "source": [
    "people.head()"
   ]
  },
  {
   "cell_type": "code",
   "execution_count": 26,
   "metadata": {},
   "outputs": [],
   "source": [
    "# Create master dataframe from organizations AND people\n",
    "master = pd.merge(crunchbase, people, left_on=['name'], right_on=['organization'])"
   ]
  },
  {
   "cell_type": "code",
   "execution_count": 27,
   "metadata": {},
   "outputs": [
    {
     "data": {
      "text/html": [
       "<div>\n",
       "<style scoped>\n",
       "    .dataframe tbody tr th:only-of-type {\n",
       "        vertical-align: middle;\n",
       "    }\n",
       "\n",
       "    .dataframe tbody tr th {\n",
       "        vertical-align: top;\n",
       "    }\n",
       "\n",
       "    .dataframe thead th {\n",
       "        text-align: right;\n",
       "    }\n",
       "</style>\n",
       "<table border=\"1\" class=\"dataframe\">\n",
       "  <thead>\n",
       "    <tr style=\"text-align: right;\">\n",
       "      <th></th>\n",
       "      <th>name</th>\n",
       "      <th>homepage_url</th>\n",
       "      <th>market</th>\n",
       "      <th>funding_total_usd</th>\n",
       "      <th>status</th>\n",
       "      <th>country_code</th>\n",
       "      <th>state_code</th>\n",
       "      <th>region</th>\n",
       "      <th>city</th>\n",
       "      <th>funding_rounds</th>\n",
       "      <th>founded_at</th>\n",
       "      <th>founded_month</th>\n",
       "      <th>founded_quarter</th>\n",
       "      <th>founded_year</th>\n",
       "      <th>first_funding_at</th>\n",
       "      <th>last_funding_at</th>\n",
       "      <th>organization</th>\n",
       "      <th>crunchbase_uuid</th>\n",
       "    </tr>\n",
       "  </thead>\n",
       "  <tbody>\n",
       "    <tr>\n",
       "      <th>0</th>\n",
       "      <td>#waywire</td>\n",
       "      <td>http://www.waywire.com</td>\n",
       "      <td>News</td>\n",
       "      <td>1750000.0000</td>\n",
       "      <td>acquired</td>\n",
       "      <td>USA</td>\n",
       "      <td>NY</td>\n",
       "      <td>New York City</td>\n",
       "      <td>New York</td>\n",
       "      <td>1</td>\n",
       "      <td>6/1/12</td>\n",
       "      <td>2012-06</td>\n",
       "      <td>2012-Q2</td>\n",
       "      <td>2012.0000</td>\n",
       "      <td>6/30/12</td>\n",
       "      <td>6/30/12</td>\n",
       "      <td>#waywire</td>\n",
       "      <td>2</td>\n",
       "    </tr>\n",
       "    <tr>\n",
       "      <th>1</th>\n",
       "      <td>'Rock' Your Paper</td>\n",
       "      <td>http://www.rockyourpaper.org</td>\n",
       "      <td>Publishing</td>\n",
       "      <td>40000.0000</td>\n",
       "      <td>operating</td>\n",
       "      <td>EST</td>\n",
       "      <td>NaN</td>\n",
       "      <td>Tallinn</td>\n",
       "      <td>Tallinn</td>\n",
       "      <td>1</td>\n",
       "      <td>10/26/12</td>\n",
       "      <td>2012-10</td>\n",
       "      <td>2012-Q4</td>\n",
       "      <td>2012.0000</td>\n",
       "      <td>8/9/12</td>\n",
       "      <td>8/9/12</td>\n",
       "      <td>'Rock' Your Paper</td>\n",
       "      <td>2</td>\n",
       "    </tr>\n",
       "    <tr>\n",
       "      <th>2</th>\n",
       "      <td>(In)Touch Network</td>\n",
       "      <td>http://www.InTouchNetwork.com</td>\n",
       "      <td>Electronics</td>\n",
       "      <td>1500000.0000</td>\n",
       "      <td>operating</td>\n",
       "      <td>GBR</td>\n",
       "      <td>NaN</td>\n",
       "      <td>London</td>\n",
       "      <td>London</td>\n",
       "      <td>1</td>\n",
       "      <td>4/1/11</td>\n",
       "      <td>2011-04</td>\n",
       "      <td>2011-Q2</td>\n",
       "      <td>2011.0000</td>\n",
       "      <td>4/1/11</td>\n",
       "      <td>4/1/11</td>\n",
       "      <td>(In)Touch Network</td>\n",
       "      <td>3</td>\n",
       "    </tr>\n",
       "    <tr>\n",
       "      <th>3</th>\n",
       "      <td>-R- Ranch and Mine</td>\n",
       "      <td>NaN</td>\n",
       "      <td>Games</td>\n",
       "      <td>10000.0000</td>\n",
       "      <td>operating</td>\n",
       "      <td>USA</td>\n",
       "      <td>TX</td>\n",
       "      <td>Dallas</td>\n",
       "      <td>Fort Worth</td>\n",
       "      <td>1</td>\n",
       "      <td>7/8/14</td>\n",
       "      <td>2014-07</td>\n",
       "      <td>2014-Q3</td>\n",
       "      <td>2014.0000</td>\n",
       "      <td>8/17/14</td>\n",
       "      <td>8/17/14</td>\n",
       "      <td>-R- Ranch and Mine</td>\n",
       "      <td>1</td>\n",
       "    </tr>\n",
       "    <tr>\n",
       "      <th>4</th>\n",
       "      <td>.Club Domains</td>\n",
       "      <td>http://nic.club/</td>\n",
       "      <td>Software</td>\n",
       "      <td>7000000.0000</td>\n",
       "      <td>NaN</td>\n",
       "      <td>USA</td>\n",
       "      <td>FL</td>\n",
       "      <td>Ft. Lauderdale</td>\n",
       "      <td>Oakland Park</td>\n",
       "      <td>1</td>\n",
       "      <td>10/10/11</td>\n",
       "      <td>2011-10</td>\n",
       "      <td>2011-Q4</td>\n",
       "      <td>2011.0000</td>\n",
       "      <td>5/31/13</td>\n",
       "      <td>5/31/13</td>\n",
       "      <td>.Club Domains</td>\n",
       "      <td>1</td>\n",
       "    </tr>\n",
       "  </tbody>\n",
       "</table>\n",
       "</div>"
      ],
      "text/plain": [
       "                 name                   homepage_url         market  \\\n",
       "0            #waywire         http://www.waywire.com          News    \n",
       "1   'Rock' Your Paper   http://www.rockyourpaper.org    Publishing    \n",
       "2   (In)Touch Network  http://www.InTouchNetwork.com   Electronics    \n",
       "3  -R- Ranch and Mine                            NaN         Games    \n",
       "4       .Club Domains               http://nic.club/      Software    \n",
       "\n",
       "   funding_total_usd     status country_code state_code          region  \\\n",
       "0       1750000.0000   acquired          USA         NY   New York City   \n",
       "1         40000.0000  operating          EST        NaN         Tallinn   \n",
       "2       1500000.0000  operating          GBR        NaN          London   \n",
       "3         10000.0000  operating          USA         TX          Dallas   \n",
       "4       7000000.0000        NaN          USA         FL  Ft. Lauderdale   \n",
       "\n",
       "           city  funding_rounds founded_at founded_month founded_quarter  \\\n",
       "0      New York               1     6/1/12       2012-06         2012-Q2   \n",
       "1       Tallinn               1   10/26/12       2012-10         2012-Q4   \n",
       "2        London               1     4/1/11       2011-04         2011-Q2   \n",
       "3    Fort Worth               1     7/8/14       2014-07         2014-Q3   \n",
       "4  Oakland Park               1   10/10/11       2011-10         2011-Q4   \n",
       "\n",
       "   founded_year first_funding_at last_funding_at        organization  \\\n",
       "0     2012.0000          6/30/12         6/30/12            #waywire   \n",
       "1     2012.0000           8/9/12          8/9/12   'Rock' Your Paper   \n",
       "2     2011.0000           4/1/11          4/1/11   (In)Touch Network   \n",
       "3     2014.0000          8/17/14         8/17/14  -R- Ranch and Mine   \n",
       "4     2011.0000          5/31/13         5/31/13       .Club Domains   \n",
       "\n",
       "   crunchbase_uuid  \n",
       "0                2  \n",
       "1                2  \n",
       "2                3  \n",
       "3                1  \n",
       "4                1  "
      ]
     },
     "execution_count": 27,
     "metadata": {},
     "output_type": "execute_result"
    }
   ],
   "source": [
    "master.head()"
   ]
  },
  {
   "cell_type": "code",
   "execution_count": 28,
   "metadata": {},
   "outputs": [
    {
     "name": "stdout",
     "output_type": "stream",
     "text": [
      "(31929, 18)\n",
      "(47758, 16)\n",
      "(208928, 2)\n"
     ]
    }
   ],
   "source": [
    "# Check number of observations and columns\n",
    "print(master.shape)\n",
    "print(crunchbase.shape)\n",
    "print(people.shape)"
   ]
  },
  {
   "cell_type": "code",
   "execution_count": 29,
   "metadata": {},
   "outputs": [],
   "source": [
    "# Creating dummies for company status\n",
    "master['closed']=0\n",
    "master['closed'][master['status'] == 'closed']=1\n",
    "\n",
    "master['operating']=0\n",
    "master['operating'][master['status'] == 'operating']=1\n",
    "\n",
    "master['acquired']=0\n",
    "master['acquired'][master['status'] == 'acquired']=1"
   ]
  },
  {
   "cell_type": "code",
   "execution_count": 30,
   "metadata": {},
   "outputs": [
    {
     "data": {
      "text/html": [
       "<div>\n",
       "<style scoped>\n",
       "    .dataframe tbody tr th:only-of-type {\n",
       "        vertical-align: middle;\n",
       "    }\n",
       "\n",
       "    .dataframe tbody tr th {\n",
       "        vertical-align: top;\n",
       "    }\n",
       "\n",
       "    .dataframe thead th {\n",
       "        text-align: right;\n",
       "    }\n",
       "</style>\n",
       "<table border=\"1\" class=\"dataframe\">\n",
       "  <thead>\n",
       "    <tr style=\"text-align: right;\">\n",
       "      <th></th>\n",
       "      <th>funding_total_usd</th>\n",
       "      <th>funding_rounds</th>\n",
       "      <th>founded_year</th>\n",
       "      <th>crunchbase_uuid</th>\n",
       "      <th>closed</th>\n",
       "      <th>operating</th>\n",
       "      <th>acquired</th>\n",
       "    </tr>\n",
       "  </thead>\n",
       "  <tbody>\n",
       "    <tr>\n",
       "      <th>funding_total_usd</th>\n",
       "      <td>1.0000</td>\n",
       "      <td>0.0370</td>\n",
       "      <td>-0.0745</td>\n",
       "      <td>0.0546</td>\n",
       "      <td>-0.0027</td>\n",
       "      <td>-0.0018</td>\n",
       "      <td>0.0036</td>\n",
       "    </tr>\n",
       "    <tr>\n",
       "      <th>funding_rounds</th>\n",
       "      <td>0.0370</td>\n",
       "      <td>1.0000</td>\n",
       "      <td>-0.0840</td>\n",
       "      <td>0.1346</td>\n",
       "      <td>-0.0140</td>\n",
       "      <td>-0.0508</td>\n",
       "      <td>0.0723</td>\n",
       "    </tr>\n",
       "    <tr>\n",
       "      <th>founded_year</th>\n",
       "      <td>-0.0745</td>\n",
       "      <td>-0.0840</td>\n",
       "      <td>1.0000</td>\n",
       "      <td>-0.0825</td>\n",
       "      <td>0.0190</td>\n",
       "      <td>0.0869</td>\n",
       "      <td>-0.1065</td>\n",
       "    </tr>\n",
       "    <tr>\n",
       "      <th>crunchbase_uuid</th>\n",
       "      <td>0.0546</td>\n",
       "      <td>0.1346</td>\n",
       "      <td>-0.0825</td>\n",
       "      <td>1.0000</td>\n",
       "      <td>-0.0222</td>\n",
       "      <td>0.0129</td>\n",
       "      <td>-0.0028</td>\n",
       "    </tr>\n",
       "    <tr>\n",
       "      <th>closed</th>\n",
       "      <td>-0.0027</td>\n",
       "      <td>-0.0140</td>\n",
       "      <td>0.0190</td>\n",
       "      <td>-0.0222</td>\n",
       "      <td>1.0000</td>\n",
       "      <td>-0.4159</td>\n",
       "      <td>-0.0405</td>\n",
       "    </tr>\n",
       "    <tr>\n",
       "      <th>operating</th>\n",
       "      <td>-0.0018</td>\n",
       "      <td>-0.0508</td>\n",
       "      <td>0.0869</td>\n",
       "      <td>0.0129</td>\n",
       "      <td>-0.4159</td>\n",
       "      <td>1.0000</td>\n",
       "      <td>-0.7078</td>\n",
       "    </tr>\n",
       "    <tr>\n",
       "      <th>acquired</th>\n",
       "      <td>0.0036</td>\n",
       "      <td>0.0723</td>\n",
       "      <td>-0.1065</td>\n",
       "      <td>-0.0028</td>\n",
       "      <td>-0.0405</td>\n",
       "      <td>-0.7078</td>\n",
       "      <td>1.0000</td>\n",
       "    </tr>\n",
       "  </tbody>\n",
       "</table>\n",
       "</div>"
      ],
      "text/plain": [
       "                   funding_total_usd  funding_rounds  founded_year  \\\n",
       "funding_total_usd             1.0000          0.0370       -0.0745   \n",
       "funding_rounds                0.0370          1.0000       -0.0840   \n",
       "founded_year                 -0.0745         -0.0840        1.0000   \n",
       "crunchbase_uuid               0.0546          0.1346       -0.0825   \n",
       "closed                       -0.0027         -0.0140        0.0190   \n",
       "operating                    -0.0018         -0.0508        0.0869   \n",
       "acquired                      0.0036          0.0723       -0.1065   \n",
       "\n",
       "                   crunchbase_uuid  closed  operating  acquired  \n",
       "funding_total_usd           0.0546 -0.0027    -0.0018    0.0036  \n",
       "funding_rounds              0.1346 -0.0140    -0.0508    0.0723  \n",
       "founded_year               -0.0825  0.0190     0.0869   -0.1065  \n",
       "crunchbase_uuid             1.0000 -0.0222     0.0129   -0.0028  \n",
       "closed                     -0.0222  1.0000    -0.4159   -0.0405  \n",
       "operating                   0.0129 -0.4159     1.0000   -0.7078  \n",
       "acquired                   -0.0028 -0.0405    -0.7078    1.0000  "
      ]
     },
     "execution_count": 30,
     "metadata": {},
     "output_type": "execute_result"
    }
   ],
   "source": [
    "# Checking correlations between company status and numerical variables\n",
    "master.corr()"
   ]
  },
  {
   "cell_type": "code",
   "execution_count": 31,
   "metadata": {},
   "outputs": [
    {
     "data": {
      "text/html": [
       "<div>\n",
       "<style scoped>\n",
       "    .dataframe tbody tr th:only-of-type {\n",
       "        vertical-align: middle;\n",
       "    }\n",
       "\n",
       "    .dataframe tbody tr th {\n",
       "        vertical-align: top;\n",
       "    }\n",
       "\n",
       "    .dataframe thead th {\n",
       "        text-align: right;\n",
       "    }\n",
       "</style>\n",
       "<table border=\"1\" class=\"dataframe\">\n",
       "  <thead>\n",
       "    <tr style=\"text-align: right;\">\n",
       "      <th></th>\n",
       "      <th>funding_total_usd</th>\n",
       "      <th>funding_rounds</th>\n",
       "      <th>founded_year</th>\n",
       "      <th>crunchbase_uuid</th>\n",
       "      <th>closed</th>\n",
       "      <th>operating</th>\n",
       "      <th>acquired</th>\n",
       "    </tr>\n",
       "  </thead>\n",
       "  <tbody>\n",
       "    <tr>\n",
       "      <th>count</th>\n",
       "      <td>31929.0000</td>\n",
       "      <td>31929.0000</td>\n",
       "      <td>26158.0000</td>\n",
       "      <td>31929.0000</td>\n",
       "      <td>31929.0000</td>\n",
       "      <td>31929.0000</td>\n",
       "      <td>31929.0000</td>\n",
       "    </tr>\n",
       "    <tr>\n",
       "      <th>mean</th>\n",
       "      <td>17861365.2739</td>\n",
       "      <td>1.7979</td>\n",
       "      <td>2007.5556</td>\n",
       "      <td>3.7136</td>\n",
       "      <td>0.0232</td>\n",
       "      <td>0.8791</td>\n",
       "      <td>0.0645</td>\n",
       "    </tr>\n",
       "    <tr>\n",
       "      <th>std</th>\n",
       "      <td>479308595.7265</td>\n",
       "      <td>1.3780</td>\n",
       "      <td>7.3290</td>\n",
       "      <td>10.2547</td>\n",
       "      <td>0.1507</td>\n",
       "      <td>0.3260</td>\n",
       "      <td>0.2456</td>\n",
       "    </tr>\n",
       "    <tr>\n",
       "      <th>min</th>\n",
       "      <td>0.0000</td>\n",
       "      <td>1.0000</td>\n",
       "      <td>1902.0000</td>\n",
       "      <td>1.0000</td>\n",
       "      <td>0.0000</td>\n",
       "      <td>0.0000</td>\n",
       "      <td>0.0000</td>\n",
       "    </tr>\n",
       "    <tr>\n",
       "      <th>25%</th>\n",
       "      <td>75000.0000</td>\n",
       "      <td>1.0000</td>\n",
       "      <td>2006.0000</td>\n",
       "      <td>1.0000</td>\n",
       "      <td>0.0000</td>\n",
       "      <td>1.0000</td>\n",
       "      <td>0.0000</td>\n",
       "    </tr>\n",
       "    <tr>\n",
       "      <th>50%</th>\n",
       "      <td>1157940.0000</td>\n",
       "      <td>1.0000</td>\n",
       "      <td>2010.0000</td>\n",
       "      <td>2.0000</td>\n",
       "      <td>0.0000</td>\n",
       "      <td>1.0000</td>\n",
       "      <td>0.0000</td>\n",
       "    </tr>\n",
       "    <tr>\n",
       "      <th>75%</th>\n",
       "      <td>7800000.0000</td>\n",
       "      <td>2.0000</td>\n",
       "      <td>2012.0000</td>\n",
       "      <td>4.0000</td>\n",
       "      <td>0.0000</td>\n",
       "      <td>1.0000</td>\n",
       "      <td>0.0000</td>\n",
       "    </tr>\n",
       "    <tr>\n",
       "      <th>max</th>\n",
       "      <td>78795064652.0000</td>\n",
       "      <td>17.0000</td>\n",
       "      <td>2014.0000</td>\n",
       "      <td>1336.0000</td>\n",
       "      <td>1.0000</td>\n",
       "      <td>1.0000</td>\n",
       "      <td>1.0000</td>\n",
       "    </tr>\n",
       "  </tbody>\n",
       "</table>\n",
       "</div>"
      ],
      "text/plain": [
       "       funding_total_usd  funding_rounds  founded_year  crunchbase_uuid  \\\n",
       "count         31929.0000      31929.0000    26158.0000       31929.0000   \n",
       "mean       17861365.2739          1.7979     2007.5556           3.7136   \n",
       "std       479308595.7265          1.3780        7.3290          10.2547   \n",
       "min               0.0000          1.0000     1902.0000           1.0000   \n",
       "25%           75000.0000          1.0000     2006.0000           1.0000   \n",
       "50%         1157940.0000          1.0000     2010.0000           2.0000   \n",
       "75%         7800000.0000          2.0000     2012.0000           4.0000   \n",
       "max     78795064652.0000         17.0000     2014.0000        1336.0000   \n",
       "\n",
       "          closed  operating   acquired  \n",
       "count 31929.0000 31929.0000 31929.0000  \n",
       "mean      0.0232     0.8791     0.0645  \n",
       "std       0.1507     0.3260     0.2456  \n",
       "min       0.0000     0.0000     0.0000  \n",
       "25%       0.0000     1.0000     0.0000  \n",
       "50%       0.0000     1.0000     0.0000  \n",
       "75%       0.0000     1.0000     0.0000  \n",
       "max       1.0000     1.0000     1.0000  "
      ]
     },
     "execution_count": 31,
     "metadata": {},
     "output_type": "execute_result"
    }
   ],
   "source": [
    "master.describe()"
   ]
  },
  {
   "cell_type": "code",
   "execution_count": 32,
   "metadata": {},
   "outputs": [
    {
     "data": {
      "image/png": "[encoded data removed]",
      "text/plain": [
       "<matplotlib.figure.Figure at 0x10af6a7b8>"
      ]
     },
     "metadata": {},
     "output_type": "display_data"
    }
   ],
   "source": [
    "countries = master.groupby(['country_code'])[['name']].nunique()\n",
    "countries.columns = ['companies']\n",
    "countries = countries.reset_index().sort_values(by=['companies'], ascending=False)\n",
    "\n",
    "top10_countries = countries.head(10)\n",
    "plt.figure(figsize=(10,10))\n",
    "plt.title('Number of Companies per Country (Top 10 Countries)')\n",
    "sns.barplot(y ='country_code', x='companies',data = top10_countries, palette=\"Blues_d\")\n",
    "#plt.tight_layout()\n",
    "plt.savefig('companies_per_country_top10.png', dpi=300, transparent=True)"
   ]
  },
  {
   "cell_type": "code",
   "execution_count": 33,
   "metadata": {},
   "outputs": [],
   "source": [
    "master_non_usa = master[master['country_code'] != 'USA']\n",
    "master_deu = master[master['country_code'] == 'DEU'] \n",
    "master_gbr = master[master['country_code'] == 'GBR'] "
   ]
  },
  {
   "cell_type": "code",
   "execution_count": 34,
   "metadata": {},
   "outputs": [],
   "source": [
    "master['usa'] = 0\n",
    "master['usa'][master['country_code'] == 'USA']=1"
   ]
  },
  {
   "cell_type": "code",
   "execution_count": 35,
   "metadata": {},
   "outputs": [
    {
     "data": {
      "text/plain": [
       "1    19563\n",
       "0    12366\n",
       "Name: usa, dtype: int64"
      ]
     },
     "execution_count": 35,
     "metadata": {},
     "output_type": "execute_result"
    }
   ],
   "source": [
    "master['usa'].value_counts()"
   ]
  },
  {
   "cell_type": "code",
   "execution_count": 36,
   "metadata": {},
   "outputs": [
    {
     "data": {
      "image/png": "[encoded data removed]",
      "text/plain": [
       "<matplotlib.figure.Figure at 0x10af5fb38>"
      ]
     },
     "metadata": {},
     "output_type": "display_data"
    }
   ],
   "source": [
    "cities = master.groupby(['city'])[['name']].nunique()\n",
    "cities.columns = ['companies']\n",
    "cities = cities.reset_index().sort_values(by=['companies'], ascending=False)\n",
    "\n",
    "top10_cities = cities.head(10)\n",
    "plt.figure(figsize=(10,10))\n",
    "sns.barplot(y ='city', x='companies',data = top10_cities, palette=\"Greens_d\")\n",
    "#plt.tight_layout()\n",
    "plt.title('Top 10 Cities with Most Companies')\n",
    "plt.savefig('top10_cities.png', dpi=300, transparent=True)"
   ]
  },
  {
   "cell_type": "code",
   "execution_count": 37,
   "metadata": {},
   "outputs": [
    {
     "data": {
      "text/html": [
       "<div>\n",
       "<style scoped>\n",
       "    .dataframe tbody tr th:only-of-type {\n",
       "        vertical-align: middle;\n",
       "    }\n",
       "\n",
       "    .dataframe tbody tr th {\n",
       "        vertical-align: top;\n",
       "    }\n",
       "\n",
       "    .dataframe thead th {\n",
       "        text-align: right;\n",
       "    }\n",
       "</style>\n",
       "<table border=\"1\" class=\"dataframe\">\n",
       "  <thead>\n",
       "    <tr style=\"text-align: right;\">\n",
       "      <th></th>\n",
       "      <th>name</th>\n",
       "      <th>funding_total_usd</th>\n",
       "    </tr>\n",
       "    <tr>\n",
       "      <th>city</th>\n",
       "      <th></th>\n",
       "      <th></th>\n",
       "    </tr>\n",
       "  </thead>\n",
       "  <tbody>\n",
       "    <tr>\n",
       "      <th>Dublin</th>\n",
       "      <td>180</td>\n",
       "      <td>79693896930.0000</td>\n",
       "    </tr>\n",
       "    <tr>\n",
       "      <th>New York</th>\n",
       "      <td>1613</td>\n",
       "      <td>55709144489.0000</td>\n",
       "    </tr>\n",
       "    <tr>\n",
       "      <th>San Francisco</th>\n",
       "      <td>1794</td>\n",
       "      <td>31977336602.0000</td>\n",
       "    </tr>\n",
       "    <tr>\n",
       "      <th>Palo Alto</th>\n",
       "      <td>380</td>\n",
       "      <td>9715855319.0000</td>\n",
       "    </tr>\n",
       "    <tr>\n",
       "      <th>San Diego</th>\n",
       "      <td>333</td>\n",
       "      <td>9148981445.0000</td>\n",
       "    </tr>\n",
       "    <tr>\n",
       "      <th>Beijing</th>\n",
       "      <td>312</td>\n",
       "      <td>9075253656.0000</td>\n",
       "    </tr>\n",
       "    <tr>\n",
       "      <th>Cambridge</th>\n",
       "      <td>398</td>\n",
       "      <td>8976584586.0000</td>\n",
       "    </tr>\n",
       "    <tr>\n",
       "      <th>San Jose</th>\n",
       "      <td>251</td>\n",
       "      <td>7640245694.0000</td>\n",
       "    </tr>\n",
       "    <tr>\n",
       "      <th>Moscow</th>\n",
       "      <td>139</td>\n",
       "      <td>7369608654.0000</td>\n",
       "    </tr>\n",
       "    <tr>\n",
       "      <th>Mountain View</th>\n",
       "      <td>329</td>\n",
       "      <td>7065910461.0000</td>\n",
       "    </tr>\n",
       "  </tbody>\n",
       "</table>\n",
       "</div>"
      ],
      "text/plain": [
       "               name  funding_total_usd\n",
       "city                                  \n",
       "Dublin          180   79693896930.0000\n",
       "New York       1613   55709144489.0000\n",
       "San Francisco  1794   31977336602.0000\n",
       "Palo Alto       380    9715855319.0000\n",
       "San Diego       333    9148981445.0000\n",
       "Beijing         312    9075253656.0000\n",
       "Cambridge       398    8976584586.0000\n",
       "San Jose        251    7640245694.0000\n",
       "Moscow          139    7369608654.0000\n",
       "Mountain View   329    7065910461.0000"
      ]
     },
     "execution_count": 37,
     "metadata": {},
     "output_type": "execute_result"
    }
   ],
   "source": [
    "cities_funding = master.groupby(['city']).agg({'name': \"nunique\",\n",
    "                                              'funding_total_usd': 'sum'})\n",
    "cities_funding = cities_funding.sort_values(by='funding_total_usd', ascending=False)\n",
    "cities_funding.head(10)"
   ]
  },
  {
   "cell_type": "code",
   "execution_count": 38,
   "metadata": {},
   "outputs": [
    {
     "data": {
      "image/png": "[encoded data removed]",
      "text/plain": [
       "<matplotlib.figure.Figure at 0x10af5f1d0>"
      ]
     },
     "metadata": {},
     "output_type": "display_data"
    }
   ],
   "source": [
    "cities_nonusa = master_non_usa.groupby(['city'])[['name']].nunique()\n",
    "cities_nonusa.columns = ['companies']\n",
    "cities_nonusa = cities_nonusa.reset_index().sort_values(by=['companies'], ascending=False)\n",
    "\n",
    "top10_cities_nonusa = cities_nonusa.head(10)\n",
    "plt.figure(figsize=(10,10))\n",
    "sns.barplot(y ='city', x='companies',data = top10_cities_nonusa,palette =\"Greens_d\")\n",
    "#plt.tight_layout()\n",
    "plt.title('Number of Companies per Top 10 Cities outside of the US')\n",
    "plt.savefig('cities_nonusa.png', dpi=300, transparent=True)"
   ]
  },
  {
   "cell_type": "code",
   "execution_count": 39,
   "metadata": {},
   "outputs": [],
   "source": [
    "countries.nonusa = countries[countries != 'USA']"
   ]
  },
  {
   "cell_type": "code",
   "execution_count": 40,
   "metadata": {},
   "outputs": [
    {
     "data": {
      "text/plain": [
       "Text(0.5,1,'Top 10 countries by number of companies')"
      ]
     },
     "execution_count": 40,
     "metadata": {},
     "output_type": "execute_result"
    },
    {
     "data": {
      "image/png": "[encoded data removed]",
      "text/plain": [
       "<matplotlib.figure.Figure at 0x10b19d9e8>"
      ]
     },
     "metadata": {},
     "output_type": "display_data"
    }
   ],
   "source": [
    "top10_countries = countries.nonusa.head(10)\n",
    "plt.figure(figsize=(10,10))\n",
    "sns.barplot(y ='country_code', x='companies',data = top10_countries, palette='OrRd_d')\n",
    "plt.title('Top 10 countries by number of companies')"
   ]
  },
  {
   "cell_type": "code",
   "execution_count": 41,
   "metadata": {},
   "outputs": [
    {
     "data": {
      "text/plain": [
       "<matplotlib.figure.Figure at 0x10d28c4a8>"
      ]
     },
     "metadata": {},
     "output_type": "display_data"
    },
    {
     "data": {
      "image/png": "[encoded data removed]",
      "text/plain": [
       "<matplotlib.figure.Figure at 0x10d28cd30>"
      ]
     },
     "metadata": {},
     "output_type": "display_data"
    }
   ],
   "source": [
    "industry = master.groupby(['market'])[['name']].nunique()\n",
    "industry.columns = ['companies']\n",
    "industry = industry.reset_index().sort_values(by=['companies'], ascending=False)\n",
    "top15_industry = industry.head(15)\n",
    "fig = plt.figure()\n",
    "plt.figure(figsize=(10,10))\n",
    "sns.barplot(y ='market', x='companies',data = top15_industry,palette=\"Blues_d\")\n",
    "#plt.tight_layout()\n",
    "plt.title('Top 15 Markets by Number of Companies')\n",
    "plt.savefig('industry_top_15.png', dpi=300, transparent=True)"
   ]
  },
  {
   "cell_type": "code",
   "execution_count": 42,
   "metadata": {},
   "outputs": [],
   "source": [
    "funding_industry = master.groupby(['market'])[['funding_total_usd']].sum().sort_values(by='funding_total_usd',\n",
    "                                                                                       ascending=False)"
   ]
  },
  {
   "cell_type": "code",
   "execution_count": 43,
   "metadata": {},
   "outputs": [
    {
     "data": {
      "text/html": [
       "<div>\n",
       "<style scoped>\n",
       "    .dataframe tbody tr th:only-of-type {\n",
       "        vertical-align: middle;\n",
       "    }\n",
       "\n",
       "    .dataframe tbody tr th {\n",
       "        vertical-align: top;\n",
       "    }\n",
       "\n",
       "    .dataframe thead th {\n",
       "        text-align: right;\n",
       "    }\n",
       "</style>\n",
       "<table border=\"1\" class=\"dataframe\">\n",
       "  <thead>\n",
       "    <tr style=\"text-align: right;\">\n",
       "      <th></th>\n",
       "      <th>funding_total_usd</th>\n",
       "    </tr>\n",
       "    <tr>\n",
       "      <th>market</th>\n",
       "      <th></th>\n",
       "    </tr>\n",
       "  </thead>\n",
       "  <tbody>\n",
       "    <tr>\n",
       "      <th>Biotechnology</th>\n",
       "      <td>58250022287.0000</td>\n",
       "    </tr>\n",
       "    <tr>\n",
       "      <th>Mobile</th>\n",
       "      <td>42256280396.0000</td>\n",
       "    </tr>\n",
       "    <tr>\n",
       "      <th>Software</th>\n",
       "      <td>30186755847.0000</td>\n",
       "    </tr>\n",
       "    <tr>\n",
       "      <th>Clean Technology</th>\n",
       "      <td>28450592332.0000</td>\n",
       "    </tr>\n",
       "    <tr>\n",
       "      <th>Health Care</th>\n",
       "      <td>24975114324.0000</td>\n",
       "    </tr>\n",
       "    <tr>\n",
       "      <th>E-Commerce</th>\n",
       "      <td>16437512920.0000</td>\n",
       "    </tr>\n",
       "    <tr>\n",
       "      <th>Enterprise Software</th>\n",
       "      <td>15259272938.0000</td>\n",
       "    </tr>\n",
       "    <tr>\n",
       "      <th>Finance</th>\n",
       "      <td>13868740190.0000</td>\n",
       "    </tr>\n",
       "    <tr>\n",
       "      <th>Advertising</th>\n",
       "      <td>9689181159.0000</td>\n",
       "    </tr>\n",
       "    <tr>\n",
       "      <th>Health and Wellness</th>\n",
       "      <td>9578100392.0000</td>\n",
       "    </tr>\n",
       "  </tbody>\n",
       "</table>\n",
       "</div>"
      ],
      "text/plain": [
       "                       funding_total_usd\n",
       "market                                  \n",
       " Biotechnology          58250022287.0000\n",
       " Mobile                 42256280396.0000\n",
       " Software               30186755847.0000\n",
       " Clean Technology       28450592332.0000\n",
       " Health Care            24975114324.0000\n",
       " E-Commerce             16437512920.0000\n",
       " Enterprise Software    15259272938.0000\n",
       " Finance                13868740190.0000\n",
       " Advertising             9689181159.0000\n",
       " Health and Wellness     9578100392.0000"
      ]
     },
     "execution_count": 43,
     "metadata": {},
     "output_type": "execute_result"
    }
   ],
   "source": [
    "funding_industry.head(10)"
   ]
  },
  {
   "cell_type": "code",
   "execution_count": 44,
   "metadata": {},
   "outputs": [],
   "source": [
    "# For the purposes of this project, we define startups as companies founded \n",
    "# after the Dotcom bubble crash, i.e. the year 2000\n",
    "master['startup'] = 0\n",
    "master['startup'][(master['founded_year'] > 2000)] = 1"
   ]
  },
  {
   "cell_type": "code",
   "execution_count": 45,
   "metadata": {},
   "outputs": [],
   "source": [
    "master['gbr'] = 0\n",
    "master['gbr'][master['country_code'] == 'GBR']=1"
   ]
  },
  {
   "cell_type": "code",
   "execution_count": 46,
   "metadata": {},
   "outputs": [],
   "source": [
    "master['deu'] = 0\n",
    "master['deu'][master['country_code'] == 'DEU']=1"
   ]
  },
  {
   "cell_type": "code",
   "execution_count": 47,
   "metadata": {},
   "outputs": [],
   "source": [
    "master['can'] = 0\n",
    "master['can'][master['country_code'] == 'CAN']=1"
   ]
  },
  {
   "cell_type": "code",
   "execution_count": 48,
   "metadata": {},
   "outputs": [],
   "source": [
    "master['chn'] = 0\n",
    "master['chn'][master['country_code'] == 'CHN']=1"
   ]
  },
  {
   "cell_type": "code",
   "execution_count": 49,
   "metadata": {},
   "outputs": [],
   "source": [
    "startups = master[(master['startup'] == 1)]"
   ]
  },
  {
   "cell_type": "code",
   "execution_count": 50,
   "metadata": {},
   "outputs": [
    {
     "data": {
      "image/png": "[encoded data removed]",
      "text/plain": [
       "<matplotlib.figure.Figure at 0x10c3de898>"
      ]
     },
     "metadata": {},
     "output_type": "display_data"
    }
   ],
   "source": [
    "countries = startups.groupby(['country_code'])[['name']].nunique()\n",
    "countries.columns = ['companies']\n",
    "countries = countries.reset_index().sort_values(by=['companies'], ascending=False)\n",
    "\n",
    "top10_countries = countries.head(10)\n",
    "plt.figure(figsize=(10,10))\n",
    "plt.title('Number of Startups per Country (Top 10 Countries)')\n",
    "sns.barplot(y ='country_code', x='companies',data = top10_countries, palette=\"Blues_d\")\n",
    "#plt.tight_layout()\n",
    "plt.savefig('startups_per_country_top10.png', dpi=300, transparent=True)"
   ]
  },
  {
   "cell_type": "code",
   "execution_count": 51,
   "metadata": {},
   "outputs": [
    {
     "data": {
      "image/png": "[encoded data removed]",
      "text/plain": [
       "<matplotlib.figure.Figure at 0x10c3b5da0>"
      ]
     },
     "metadata": {},
     "output_type": "display_data"
    }
   ],
   "source": [
    "cities = startups.groupby(['city'])[['name']].nunique()\n",
    "cities.columns = ['companies']\n",
    "cities = cities.reset_index().sort_values(by=['companies'], ascending=False)\n",
    "\n",
    "top10_cities = cities.head(10)\n",
    "plt.figure(figsize=(10,10))\n",
    "sns.barplot(y ='city', x='companies',data = top10_cities, palette=\"Greens_d\")\n",
    "#plt.tight_layout()\n",
    "plt.title('Top 10 Cities with Most Startups')\n",
    "plt.savefig('top10_cities_startups.png', dpi=300, transparent=True)"
   ]
  },
  {
   "cell_type": "code",
   "execution_count": 52,
   "metadata": {},
   "outputs": [
    {
     "data": {
      "image/png": "[encoded data removed]",
      "text/plain": [
       "<matplotlib.figure.Figure at 0x10c3980f0>"
      ]
     },
     "metadata": {},
     "output_type": "display_data"
    }
   ],
   "source": [
    "cities_nonusa = master[master['country_code'] != 'USA'].groupby(['city'])[['name']].nunique()\n",
    "cities_nonusa.columns = ['companies']\n",
    "cities_nonusa = cities_nonusa.reset_index().sort_values(by=['companies'], ascending=False)\n",
    "\n",
    "top10_cities_nonusa = cities_nonusa.head(10)\n",
    "plt.figure(figsize=(10,10))\n",
    "sns.barplot(y ='city', x='companies',data = top10_cities_nonusa,palette =\"OrRd_d\")\n",
    "#plt.tight_layout()\n",
    "plt.title('Number of Startups per Top 10 Cities outside of the US')\n",
    "plt.savefig('cities_nonusa_startups.png', dpi=300, transparent=True)"
   ]
  },
  {
   "cell_type": "code",
   "execution_count": 53,
   "metadata": {},
   "outputs": [
    {
     "data": {
      "text/plain": [
       "<matplotlib.figure.Figure at 0x10d2b6ba8>"
      ]
     },
     "metadata": {},
     "output_type": "display_data"
    },
    {
     "data": {
      "image/png": "[encoded data removed]",
      "text/plain": [
       "<matplotlib.figure.Figure at 0x10d28c6d8>"
      ]
     },
     "metadata": {},
     "output_type": "display_data"
    }
   ],
   "source": [
    "industry = startups.groupby(['market'])[['name']].nunique()\n",
    "industry.columns = ['companies']\n",
    "industry = industry.reset_index().sort_values(by=['companies'], ascending=False)\n",
    "top15_industry = industry.head(15)\n",
    "fig = plt.figure()\n",
    "plt.figure(figsize=(10,10))\n",
    "sns.barplot(y ='market', x='companies',data = top15_industry,palette=\"Blues_d\")\n",
    "#plt.tight_layout()\n",
    "plt.title('Top 15 Markets by Number of Startups')\n",
    "plt.savefig('industry_top_15_startups.png', dpi=300, transparent=True)"
   ]
  },
  {
   "cell_type": "code",
   "execution_count": 54,
   "metadata": {},
   "outputs": [],
   "source": [
    "funding_industry = startups.groupby(['market'])[['funding_total_usd']].sum().sort_values(by='funding_total_usd',ascending=False)"
   ]
  },
  {
   "cell_type": "code",
   "execution_count": 55,
   "metadata": {},
   "outputs": [
    {
     "data": {
      "text/html": [
       "<div>\n",
       "<style scoped>\n",
       "    .dataframe tbody tr th:only-of-type {\n",
       "        vertical-align: middle;\n",
       "    }\n",
       "\n",
       "    .dataframe tbody tr th {\n",
       "        vertical-align: top;\n",
       "    }\n",
       "\n",
       "    .dataframe thead th {\n",
       "        text-align: right;\n",
       "    }\n",
       "</style>\n",
       "<table border=\"1\" class=\"dataframe\">\n",
       "  <thead>\n",
       "    <tr style=\"text-align: right;\">\n",
       "      <th></th>\n",
       "      <th>funding_total_usd</th>\n",
       "    </tr>\n",
       "    <tr>\n",
       "      <th>market</th>\n",
       "      <th></th>\n",
       "    </tr>\n",
       "  </thead>\n",
       "  <tbody>\n",
       "    <tr>\n",
       "      <th>Biotechnology</th>\n",
       "      <td>32024502591.0000</td>\n",
       "    </tr>\n",
       "    <tr>\n",
       "      <th>Clean Technology</th>\n",
       "      <td>18647070579.0000</td>\n",
       "    </tr>\n",
       "    <tr>\n",
       "      <th>Software</th>\n",
       "      <td>17578793463.0000</td>\n",
       "    </tr>\n",
       "    <tr>\n",
       "      <th>Health Care</th>\n",
       "      <td>15122461899.0000</td>\n",
       "    </tr>\n",
       "    <tr>\n",
       "      <th>E-Commerce</th>\n",
       "      <td>10656182641.0000</td>\n",
       "    </tr>\n",
       "    <tr>\n",
       "      <th>Enterprise Software</th>\n",
       "      <td>10430323420.0000</td>\n",
       "    </tr>\n",
       "    <tr>\n",
       "      <th>Mobile</th>\n",
       "      <td>8393587904.0000</td>\n",
       "    </tr>\n",
       "    <tr>\n",
       "      <th>Advertising</th>\n",
       "      <td>7327345251.0000</td>\n",
       "    </tr>\n",
       "    <tr>\n",
       "      <th>Technology</th>\n",
       "      <td>7261657143.0000</td>\n",
       "    </tr>\n",
       "    <tr>\n",
       "      <th>Internet</th>\n",
       "      <td>6717472953.0000</td>\n",
       "    </tr>\n",
       "  </tbody>\n",
       "</table>\n",
       "</div>"
      ],
      "text/plain": [
       "                       funding_total_usd\n",
       "market                                  \n",
       " Biotechnology          32024502591.0000\n",
       " Clean Technology       18647070579.0000\n",
       " Software               17578793463.0000\n",
       " Health Care            15122461899.0000\n",
       " E-Commerce             10656182641.0000\n",
       " Enterprise Software    10430323420.0000\n",
       " Mobile                  8393587904.0000\n",
       " Advertising             7327345251.0000\n",
       " Technology              7261657143.0000\n",
       " Internet                6717472953.0000"
      ]
     },
     "execution_count": 55,
     "metadata": {},
     "output_type": "execute_result"
    }
   ],
   "source": [
    "funding_industry.head(10)"
   ]
  },
  {
   "cell_type": "code",
   "execution_count": 56,
   "metadata": {},
   "outputs": [
    {
     "data": {
      "text/plain": [
       "operating    20630\n",
       "acquired      1379\n",
       "closed         586\n",
       "Name: status, dtype: int64"
      ]
     },
     "execution_count": 56,
     "metadata": {},
     "output_type": "execute_result"
    }
   ],
   "source": [
    "startups.status.value_counts()"
   ]
  },
  {
   "cell_type": "code",
   "execution_count": 57,
   "metadata": {},
   "outputs": [
    {
     "data": {
      "text/plain": [
       "<matplotlib.figure.Figure at 0x10d2f5940>"
      ]
     },
     "metadata": {},
     "output_type": "display_data"
    },
    {
     "data": {
      "image/png": "[encoded data removed]",
      "text/plain": [
       "<matplotlib.figure.Figure at 0x10d303438>"
      ]
     },
     "metadata": {},
     "output_type": "display_data"
    }
   ],
   "source": [
    "#industry by of funding\n",
    "fundingindustry_startups = startups.groupby(['market'])[['funding_total_usd']].sum()\n",
    "fundingindustry_startups.columns = ['funding_total_usd']\n",
    "fundingindustry_startups = fundingindustry_startups.reset_index().sort_values(by=['funding_total_usd'], ascending=False)\n",
    "top10_fundingindustry_startups = fundingindustry_startups.head(15)\n",
    "fig = plt.figure()\n",
    "plt.figure(figsize=(10,10))\n",
    "sns.barplot(y ='market', x='funding_total_usd',data = top10_fundingindustry_startups, palette=\"Greens_d\")\n",
    "plt.xlabel('Sum of funding in 10bn USD')\n",
    "plt.ylabel('Market')\n",
    "plt.title('Total Funding of Top 15 Startup Markets (by $)')\n",
    "plt.tight_layout()\n",
    "plt.savefig('industry_funding_usd.png', dpi=300, transparent=True)"
   ]
  },
  {
   "cell_type": "code",
   "execution_count": 58,
   "metadata": {},
   "outputs": [
    {
     "data": {
      "text/plain": [
       "<matplotlib.figure.Figure at 0x1c0f9284e0>"
      ]
     },
     "metadata": {},
     "output_type": "display_data"
    },
    {
     "data": {
      "image/png": "[encoded data removed]",
      "text/plain": [
       "<matplotlib.figure.Figure at 0x10d303fd0>"
      ]
     },
     "metadata": {},
     "output_type": "display_data"
    }
   ],
   "source": [
    "#industry by of funding percentage\n",
    "fundingindustry_startups = startups.groupby(['market'])[['funding_total_usd']].sum()\n",
    "fundingindustry_startups.columns = ['funding_total_usd']\n",
    "fundingindustry_startups['funding_percent'] = fundingindustry_startups['funding_total_usd'] / startups['funding_total_usd'].sum()\n",
    "fundingindustry_startups = fundingindustry_startups.reset_index().sort_values(by=['funding_percent'], ascending=False)\n",
    "top10_fundingindustry_startups = fundingindustry_startups.head(15)\n",
    "fig = plt.figure()\n",
    "plt.figure(figsize=(10,10))\n",
    "sns.barplot(y ='market', x='funding_percent',data = top10_fundingindustry_startups,palette=\"Greens_d\")\n",
    "plt.xlabel('Funding in % of total')\n",
    "plt.ylabel('Market')\n",
    "plt.title('Total Funding of Top 15 Startup Markets (by %)')\n",
    "plt.tight_layout()\n",
    "plt.savefig('industry_funding_per.png', dpi=300, transparent=True)"
   ]
  },
  {
   "cell_type": "code",
   "execution_count": 59,
   "metadata": {},
   "outputs": [
    {
     "data": {
      "text/html": [
       "<div>\n",
       "<style scoped>\n",
       "    .dataframe tbody tr th:only-of-type {\n",
       "        vertical-align: middle;\n",
       "    }\n",
       "\n",
       "    .dataframe tbody tr th {\n",
       "        vertical-align: top;\n",
       "    }\n",
       "\n",
       "    .dataframe thead th {\n",
       "        text-align: right;\n",
       "    }\n",
       "</style>\n",
       "<table border=\"1\" class=\"dataframe\">\n",
       "  <thead>\n",
       "    <tr style=\"text-align: right;\">\n",
       "      <th></th>\n",
       "      <th>market</th>\n",
       "      <th>funding_total_usd</th>\n",
       "      <th>funding_percent</th>\n",
       "    </tr>\n",
       "  </thead>\n",
       "  <tbody>\n",
       "    <tr>\n",
       "      <th>54</th>\n",
       "      <td>Biotechnology</td>\n",
       "      <td>32024502591.0000</td>\n",
       "      <td>0.1126</td>\n",
       "    </tr>\n",
       "    <tr>\n",
       "      <th>84</th>\n",
       "      <td>Clean Technology</td>\n",
       "      <td>18647070579.0000</td>\n",
       "      <td>0.0656</td>\n",
       "    </tr>\n",
       "    <tr>\n",
       "      <th>561</th>\n",
       "      <td>Software</td>\n",
       "      <td>17578793463.0000</td>\n",
       "      <td>0.0618</td>\n",
       "    </tr>\n",
       "    <tr>\n",
       "      <th>265</th>\n",
       "      <td>Health Care</td>\n",
       "      <td>15122461899.0000</td>\n",
       "      <td>0.0532</td>\n",
       "    </tr>\n",
       "    <tr>\n",
       "      <th>174</th>\n",
       "      <td>E-Commerce</td>\n",
       "      <td>10656182641.0000</td>\n",
       "      <td>0.0375</td>\n",
       "    </tr>\n",
       "    <tr>\n",
       "      <th>202</th>\n",
       "      <td>Enterprise Software</td>\n",
       "      <td>10430323420.0000</td>\n",
       "      <td>0.0367</td>\n",
       "    </tr>\n",
       "    <tr>\n",
       "      <th>371</th>\n",
       "      <td>Mobile</td>\n",
       "      <td>8393587904.0000</td>\n",
       "      <td>0.0295</td>\n",
       "    </tr>\n",
       "    <tr>\n",
       "      <th>7</th>\n",
       "      <td>Advertising</td>\n",
       "      <td>7327345251.0000</td>\n",
       "      <td>0.0258</td>\n",
       "    </tr>\n",
       "    <tr>\n",
       "      <th>591</th>\n",
       "      <td>Technology</td>\n",
       "      <td>7261657143.0000</td>\n",
       "      <td>0.0255</td>\n",
       "    </tr>\n",
       "    <tr>\n",
       "      <th>308</th>\n",
       "      <td>Internet</td>\n",
       "      <td>6717472953.0000</td>\n",
       "      <td>0.0236</td>\n",
       "    </tr>\n",
       "    <tr>\n",
       "      <th>268</th>\n",
       "      <td>Health and Wellness</td>\n",
       "      <td>6478923019.0000</td>\n",
       "      <td>0.0228</td>\n",
       "    </tr>\n",
       "    <tr>\n",
       "      <th>18</th>\n",
       "      <td>Analytics</td>\n",
       "      <td>6204975410.0000</td>\n",
       "      <td>0.0218</td>\n",
       "    </tr>\n",
       "    <tr>\n",
       "      <th>222</th>\n",
       "      <td>Finance</td>\n",
       "      <td>5363745217.0000</td>\n",
       "      <td>0.0189</td>\n",
       "    </tr>\n",
       "    <tr>\n",
       "      <th>136</th>\n",
       "      <td>Curated Web</td>\n",
       "      <td>5267206817.0000</td>\n",
       "      <td>0.0185</td>\n",
       "    </tr>\n",
       "    <tr>\n",
       "      <th>242</th>\n",
       "      <td>Games</td>\n",
       "      <td>5202390090.0000</td>\n",
       "      <td>0.0183</td>\n",
       "    </tr>\n",
       "  </tbody>\n",
       "</table>\n",
       "</div>"
      ],
      "text/plain": [
       "                    market  funding_total_usd  funding_percent\n",
       "54          Biotechnology    32024502591.0000           0.1126\n",
       "84       Clean Technology    18647070579.0000           0.0656\n",
       "561              Software    17578793463.0000           0.0618\n",
       "265           Health Care    15122461899.0000           0.0532\n",
       "174            E-Commerce    10656182641.0000           0.0375\n",
       "202   Enterprise Software    10430323420.0000           0.0367\n",
       "371                Mobile     8393587904.0000           0.0295\n",
       "7             Advertising     7327345251.0000           0.0258\n",
       "591            Technology     7261657143.0000           0.0255\n",
       "308              Internet     6717472953.0000           0.0236\n",
       "268   Health and Wellness     6478923019.0000           0.0228\n",
       "18              Analytics     6204975410.0000           0.0218\n",
       "222               Finance     5363745217.0000           0.0189\n",
       "136           Curated Web     5267206817.0000           0.0185\n",
       "242                 Games     5202390090.0000           0.0183"
      ]
     },
     "execution_count": 59,
     "metadata": {},
     "output_type": "execute_result"
    }
   ],
   "source": [
    "top10_fundingindustry_startups.head(20)"
   ]
  },
  {
   "cell_type": "code",
   "execution_count": 60,
   "metadata": {},
   "outputs": [
    {
     "data": {
      "text/html": [
       "<div>\n",
       "<style scoped>\n",
       "    .dataframe tbody tr th:only-of-type {\n",
       "        vertical-align: middle;\n",
       "    }\n",
       "\n",
       "    .dataframe tbody tr th {\n",
       "        vertical-align: top;\n",
       "    }\n",
       "\n",
       "    .dataframe thead th {\n",
       "        text-align: right;\n",
       "    }\n",
       "</style>\n",
       "<table border=\"1\" class=\"dataframe\">\n",
       "  <thead>\n",
       "    <tr style=\"text-align: right;\">\n",
       "      <th></th>\n",
       "      <th>count</th>\n",
       "      <th>mean</th>\n",
       "      <th>std</th>\n",
       "      <th>min</th>\n",
       "      <th>25%</th>\n",
       "      <th>50%</th>\n",
       "      <th>75%</th>\n",
       "      <th>max</th>\n",
       "    </tr>\n",
       "  </thead>\n",
       "  <tbody>\n",
       "    <tr>\n",
       "      <th>funding_total_usd</th>\n",
       "      <td>23299.0000</td>\n",
       "      <td>12208428.5939</td>\n",
       "      <td>66625369.5159</td>\n",
       "      <td>0.0000</td>\n",
       "      <td>65035.0000</td>\n",
       "      <td>1000000.0000</td>\n",
       "      <td>6000000.0000</td>\n",
       "      <td>5700000000.0000</td>\n",
       "    </tr>\n",
       "    <tr>\n",
       "      <th>funding_rounds</th>\n",
       "      <td>23299.0000</td>\n",
       "      <td>1.8769</td>\n",
       "      <td>1.4318</td>\n",
       "      <td>1.0000</td>\n",
       "      <td>1.0000</td>\n",
       "      <td>1.0000</td>\n",
       "      <td>2.0000</td>\n",
       "      <td>17.0000</td>\n",
       "    </tr>\n",
       "    <tr>\n",
       "      <th>founded_year</th>\n",
       "      <td>23299.0000</td>\n",
       "      <td>2009.3767</td>\n",
       "      <td>3.2251</td>\n",
       "      <td>2001.0000</td>\n",
       "      <td>2007.0000</td>\n",
       "      <td>2010.0000</td>\n",
       "      <td>2012.0000</td>\n",
       "      <td>2014.0000</td>\n",
       "    </tr>\n",
       "    <tr>\n",
       "      <th>crunchbase_uuid</th>\n",
       "      <td>23299.0000</td>\n",
       "      <td>3.6830</td>\n",
       "      <td>6.3682</td>\n",
       "      <td>1.0000</td>\n",
       "      <td>1.0000</td>\n",
       "      <td>2.0000</td>\n",
       "      <td>4.0000</td>\n",
       "      <td>536.0000</td>\n",
       "    </tr>\n",
       "    <tr>\n",
       "      <th>closed</th>\n",
       "      <td>23299.0000</td>\n",
       "      <td>0.0252</td>\n",
       "      <td>0.1566</td>\n",
       "      <td>0.0000</td>\n",
       "      <td>0.0000</td>\n",
       "      <td>0.0000</td>\n",
       "      <td>0.0000</td>\n",
       "      <td>1.0000</td>\n",
       "    </tr>\n",
       "    <tr>\n",
       "      <th>operating</th>\n",
       "      <td>23299.0000</td>\n",
       "      <td>0.8854</td>\n",
       "      <td>0.3185</td>\n",
       "      <td>0.0000</td>\n",
       "      <td>1.0000</td>\n",
       "      <td>1.0000</td>\n",
       "      <td>1.0000</td>\n",
       "      <td>1.0000</td>\n",
       "    </tr>\n",
       "    <tr>\n",
       "      <th>acquired</th>\n",
       "      <td>23299.0000</td>\n",
       "      <td>0.0592</td>\n",
       "      <td>0.2360</td>\n",
       "      <td>0.0000</td>\n",
       "      <td>0.0000</td>\n",
       "      <td>0.0000</td>\n",
       "      <td>0.0000</td>\n",
       "      <td>1.0000</td>\n",
       "    </tr>\n",
       "    <tr>\n",
       "      <th>usa</th>\n",
       "      <td>23299.0000</td>\n",
       "      <td>0.6213</td>\n",
       "      <td>0.4851</td>\n",
       "      <td>0.0000</td>\n",
       "      <td>0.0000</td>\n",
       "      <td>1.0000</td>\n",
       "      <td>1.0000</td>\n",
       "      <td>1.0000</td>\n",
       "    </tr>\n",
       "    <tr>\n",
       "      <th>startup</th>\n",
       "      <td>23299.0000</td>\n",
       "      <td>1.0000</td>\n",
       "      <td>0.0000</td>\n",
       "      <td>1.0000</td>\n",
       "      <td>1.0000</td>\n",
       "      <td>1.0000</td>\n",
       "      <td>1.0000</td>\n",
       "      <td>1.0000</td>\n",
       "    </tr>\n",
       "    <tr>\n",
       "      <th>gbr</th>\n",
       "      <td>23299.0000</td>\n",
       "      <td>0.0507</td>\n",
       "      <td>0.2195</td>\n",
       "      <td>0.0000</td>\n",
       "      <td>0.0000</td>\n",
       "      <td>0.0000</td>\n",
       "      <td>0.0000</td>\n",
       "      <td>1.0000</td>\n",
       "    </tr>\n",
       "    <tr>\n",
       "      <th>deu</th>\n",
       "      <td>23299.0000</td>\n",
       "      <td>0.0182</td>\n",
       "      <td>0.1337</td>\n",
       "      <td>0.0000</td>\n",
       "      <td>0.0000</td>\n",
       "      <td>0.0000</td>\n",
       "      <td>0.0000</td>\n",
       "      <td>1.0000</td>\n",
       "    </tr>\n",
       "    <tr>\n",
       "      <th>can</th>\n",
       "      <td>23299.0000</td>\n",
       "      <td>0.0286</td>\n",
       "      <td>0.1666</td>\n",
       "      <td>0.0000</td>\n",
       "      <td>0.0000</td>\n",
       "      <td>0.0000</td>\n",
       "      <td>0.0000</td>\n",
       "      <td>1.0000</td>\n",
       "    </tr>\n",
       "    <tr>\n",
       "      <th>chn</th>\n",
       "      <td>23299.0000</td>\n",
       "      <td>0.0143</td>\n",
       "      <td>0.1187</td>\n",
       "      <td>0.0000</td>\n",
       "      <td>0.0000</td>\n",
       "      <td>0.0000</td>\n",
       "      <td>0.0000</td>\n",
       "      <td>1.0000</td>\n",
       "    </tr>\n",
       "  </tbody>\n",
       "</table>\n",
       "</div>"
      ],
      "text/plain": [
       "                       count          mean           std       min        25%  \\\n",
       "funding_total_usd 23299.0000 12208428.5939 66625369.5159    0.0000 65035.0000   \n",
       "funding_rounds    23299.0000        1.8769        1.4318    1.0000     1.0000   \n",
       "founded_year      23299.0000     2009.3767        3.2251 2001.0000  2007.0000   \n",
       "crunchbase_uuid   23299.0000        3.6830        6.3682    1.0000     1.0000   \n",
       "closed            23299.0000        0.0252        0.1566    0.0000     0.0000   \n",
       "operating         23299.0000        0.8854        0.3185    0.0000     1.0000   \n",
       "acquired          23299.0000        0.0592        0.2360    0.0000     0.0000   \n",
       "usa               23299.0000        0.6213        0.4851    0.0000     0.0000   \n",
       "startup           23299.0000        1.0000        0.0000    1.0000     1.0000   \n",
       "gbr               23299.0000        0.0507        0.2195    0.0000     0.0000   \n",
       "deu               23299.0000        0.0182        0.1337    0.0000     0.0000   \n",
       "can               23299.0000        0.0286        0.1666    0.0000     0.0000   \n",
       "chn               23299.0000        0.0143        0.1187    0.0000     0.0000   \n",
       "\n",
       "                           50%          75%             max  \n",
       "funding_total_usd 1000000.0000 6000000.0000 5700000000.0000  \n",
       "funding_rounds          1.0000       2.0000         17.0000  \n",
       "founded_year         2010.0000    2012.0000       2014.0000  \n",
       "crunchbase_uuid         2.0000       4.0000        536.0000  \n",
       "closed                  0.0000       0.0000          1.0000  \n",
       "operating               1.0000       1.0000          1.0000  \n",
       "acquired                0.0000       0.0000          1.0000  \n",
       "usa                     1.0000       1.0000          1.0000  \n",
       "startup                 1.0000       1.0000          1.0000  \n",
       "gbr                     0.0000       0.0000          1.0000  \n",
       "deu                     0.0000       0.0000          1.0000  \n",
       "can                     0.0000       0.0000          1.0000  \n",
       "chn                     0.0000       0.0000          1.0000  "
      ]
     },
     "execution_count": 60,
     "metadata": {},
     "output_type": "execute_result"
    }
   ],
   "source": [
    "startups.describe().transpose()"
   ]
  },
  {
   "cell_type": "code",
   "execution_count": 61,
   "metadata": {},
   "outputs": [],
   "source": [
    "startups.founded_year = startups.founded_year.astype(int)\n",
    "startups.market = startups.market.astype(str)"
   ]
  },
  {
   "cell_type": "code",
   "execution_count": 62,
   "metadata": {},
   "outputs": [
    {
     "data": {
      "text/html": [
       "<div>\n",
       "<style scoped>\n",
       "    .dataframe tbody tr th:only-of-type {\n",
       "        vertical-align: middle;\n",
       "    }\n",
       "\n",
       "    .dataframe tbody tr th {\n",
       "        vertical-align: top;\n",
       "    }\n",
       "\n",
       "    .dataframe thead th {\n",
       "        text-align: right;\n",
       "    }\n",
       "</style>\n",
       "<table border=\"1\" class=\"dataframe\">\n",
       "  <thead>\n",
       "    <tr style=\"text-align: right;\">\n",
       "      <th></th>\n",
       "      <th>funding_total_usd</th>\n",
       "      <th>city</th>\n",
       "      <th>name</th>\n",
       "      <th>closed</th>\n",
       "      <th>operating</th>\n",
       "      <th>acquired</th>\n",
       "      <th>closed_per</th>\n",
       "      <th>operating_per</th>\n",
       "      <th>acquired_per</th>\n",
       "    </tr>\n",
       "    <tr>\n",
       "      <th>country_code</th>\n",
       "      <th></th>\n",
       "      <th></th>\n",
       "      <th></th>\n",
       "      <th></th>\n",
       "      <th></th>\n",
       "      <th></th>\n",
       "      <th></th>\n",
       "      <th></th>\n",
       "      <th></th>\n",
       "    </tr>\n",
       "  </thead>\n",
       "  <tbody>\n",
       "    <tr>\n",
       "      <th>USA</th>\n",
       "      <td>217839491938.0000</td>\n",
       "      <td>1610</td>\n",
       "      <td>14454</td>\n",
       "      <td>374</td>\n",
       "      <td>12634</td>\n",
       "      <td>1080</td>\n",
       "      <td>0.0259</td>\n",
       "      <td>0.8741</td>\n",
       "      <td>0.0747</td>\n",
       "    </tr>\n",
       "    <tr>\n",
       "      <th>CHN</th>\n",
       "      <td>14224551919.0000</td>\n",
       "      <td>30</td>\n",
       "      <td>333</td>\n",
       "      <td>3</td>\n",
       "      <td>320</td>\n",
       "      <td>6</td>\n",
       "      <td>0.0090</td>\n",
       "      <td>0.9610</td>\n",
       "      <td>0.0180</td>\n",
       "    </tr>\n",
       "    <tr>\n",
       "      <th>GBR</th>\n",
       "      <td>9119870921.0000</td>\n",
       "      <td>175</td>\n",
       "      <td>1181</td>\n",
       "      <td>23</td>\n",
       "      <td>1090</td>\n",
       "      <td>40</td>\n",
       "      <td>0.0195</td>\n",
       "      <td>0.9229</td>\n",
       "      <td>0.0339</td>\n",
       "    </tr>\n",
       "    <tr>\n",
       "      <th>CAN</th>\n",
       "      <td>4949441250.0000</td>\n",
       "      <td>71</td>\n",
       "      <td>666</td>\n",
       "      <td>15</td>\n",
       "      <td>580</td>\n",
       "      <td>41</td>\n",
       "      <td>0.0225</td>\n",
       "      <td>0.8709</td>\n",
       "      <td>0.0616</td>\n",
       "    </tr>\n",
       "    <tr>\n",
       "      <th>DEU</th>\n",
       "      <td>3756807661.0000</td>\n",
       "      <td>81</td>\n",
       "      <td>423</td>\n",
       "      <td>8</td>\n",
       "      <td>370</td>\n",
       "      <td>28</td>\n",
       "      <td>0.0189</td>\n",
       "      <td>0.8747</td>\n",
       "      <td>0.0662</td>\n",
       "    </tr>\n",
       "  </tbody>\n",
       "</table>\n",
       "</div>"
      ],
      "text/plain": [
       "              funding_total_usd  city   name  closed  operating  acquired  \\\n",
       "country_code                                                                \n",
       "USA           217839491938.0000  1610  14454     374      12634      1080   \n",
       "CHN            14224551919.0000    30    333       3        320         6   \n",
       "GBR             9119870921.0000   175   1181      23       1090        40   \n",
       "CAN             4949441250.0000    71    666      15        580        41   \n",
       "DEU             3756807661.0000    81    423       8        370        28   \n",
       "\n",
       "              closed_per  operating_per  acquired_per  \n",
       "country_code                                           \n",
       "USA               0.0259         0.8741        0.0747  \n",
       "CHN               0.0090         0.9610        0.0180  \n",
       "GBR               0.0195         0.9229        0.0339  \n",
       "CAN               0.0225         0.8709        0.0616  \n",
       "DEU               0.0189         0.8747        0.0662  "
      ]
     },
     "execution_count": 62,
     "metadata": {},
     "output_type": "execute_result"
    }
   ],
   "source": [
    "# Aggregate people by organisation/company\n",
    "countries_stats = startups.groupby(['country_code']).agg({'funding_total_usd': \"sum\",\n",
    "                                                   'city': \"nunique\",\n",
    "                                                   'name': 'nunique',\n",
    "                                                    'closed': \"sum\",\n",
    "                                                         'operating': 'sum',\n",
    "                                                         'acquired':'sum'}).sort_values(by=\"funding_total_usd\",\n",
    "                                                                                  ascending=False)\n",
    "\n",
    "countries_stats['closed_per'] = countries_stats['closed'] / countries_stats['name']\n",
    "countries_stats['operating_per'] = countries_stats['operating'] / countries_stats['name']\n",
    "countries_stats['acquired_per'] = countries_stats['acquired'] / countries_stats['name']\n",
    "\n",
    "countries_stats.head(5)"
   ]
  },
  {
   "cell_type": "code",
   "execution_count": 63,
   "metadata": {},
   "outputs": [],
   "source": [
    "startups['age'] = 2018 - startups['founded_year']"
   ]
  },
  {
   "cell_type": "code",
   "execution_count": 64,
   "metadata": {},
   "outputs": [],
   "source": [
    "# Issues with time_between_fundings calculation, therefore export to csv (formatting will be repaired in MS Excel)\n",
    "startups.to_csv('startups.csv')"
   ]
  },
  {
   "cell_type": "code",
   "execution_count": 66,
   "metadata": {},
   "outputs": [],
   "source": [
    "startups = pd.read_csv(\"startups_new.csv\", encoding='mac_roman')"
   ]
  },
  {
   "cell_type": "code",
   "execution_count": 67,
   "metadata": {},
   "outputs": [
    {
     "data": {
      "text/plain": [
       "operating    20630\n",
       "acquired      1379\n",
       "closed         586\n",
       "Name: status, dtype: int64"
      ]
     },
     "execution_count": 67,
     "metadata": {},
     "output_type": "execute_result"
    }
   ],
   "source": [
    "startups.status.value_counts()"
   ]
  },
  {
   "cell_type": "code",
   "execution_count": 68,
   "metadata": {},
   "outputs": [
    {
     "data": {
      "image/png": "[encoded data removed]",
      "text/plain": [
       "<matplotlib.figure.Figure at 0x1c125b6208>"
      ]
     },
     "metadata": {},
     "output_type": "display_data"
    }
   ],
   "source": [
    "plt.figure(figsize=(16,8))\n",
    "sns.kdeplot(startups['founded_year'], color=\"black\", legend=False)\n",
    "plt.xlabel('founded year',fontsize=14)\n",
    "plt.ylabel('density',fontsize=14)\n",
    "plt.tight_layout()\n",
    "plt.title('Proportion of companies by founding year')\n",
    "plt.savefig('year_of_founding.png', dpi=300, transparent=True)"
   ]
  },
  {
   "cell_type": "code",
   "execution_count": 69,
   "metadata": {},
   "outputs": [
    {
     "data": {
      "text/plain": [
       "Index(['name', 'homepage_url', 'market', 'funding_total_usd', 'status',\n",
       "       'country_code', 'state_code', 'region', 'city', 'funding_rounds',\n",
       "       'founded_at', 'founded_month', 'founded_quarter', 'founded_year',\n",
       "       'first_funding_at', 'last_funding_at', 'time_between_fundings',\n",
       "       'organization', 'crunchbase_uuid', 'closed', 'operating', 'acquired',\n",
       "       'usa', 'startup', 'gbr', 'deu', 'can', 'chn', 'age'],\n",
       "      dtype='object')"
      ]
     },
     "execution_count": 69,
     "metadata": {},
     "output_type": "execute_result"
    }
   ],
   "source": [
    "startups.columns"
   ]
  },
  {
   "cell_type": "code",
   "execution_count": 70,
   "metadata": {},
   "outputs": [],
   "source": [
    "startups_new = startups[['market',\n",
    "                         'funding_total_usd',\n",
    "                         'funding_rounds',\n",
    "                         'status',\n",
    "                         'country_code',\n",
    "                         'city',\n",
    "                         'founded_year',\n",
    "                         'crunchbase_uuid',\n",
    "                         'age',\n",
    "                         'time_between_fundings']]"
   ]
  },
  {
   "cell_type": "code",
   "execution_count": 71,
   "metadata": {},
   "outputs": [],
   "source": [
    "startups_status = pd.get_dummies(startups_new.status)\n",
    "startups_countries = pd.get_dummies(startups_new.country_code)\n",
    "startups_cities = pd.get_dummies(startups_new.city)\n",
    "startups_markets = pd.get_dummies(startups_new.market)"
   ]
  },
  {
   "cell_type": "code",
   "execution_count": 72,
   "metadata": {},
   "outputs": [],
   "source": [
    "st_master = pd.concat([startups_new,startups_status,startups_countries,startups_cities, startups_markets],axis=1)"
   ]
  },
  {
   "cell_type": "code",
   "execution_count": 121,
   "metadata": {},
   "outputs": [],
   "source": [
    "st_fin = st_master.copy()"
   ]
  },
  {
   "cell_type": "code",
   "execution_count": 122,
   "metadata": {},
   "outputs": [],
   "source": [
    "crunchbase_2013 = pd.read_csv(\"crunchbase-rounds.csv\", encoding='mac_roman')"
   ]
  },
  {
   "cell_type": "code",
   "execution_count": 123,
   "metadata": {},
   "outputs": [],
   "source": [
    "# Loading additional data to analyse every founding raised per round:"
   ]
  },
  {
   "cell_type": "code",
   "execution_count": 124,
   "metadata": {},
   "outputs": [],
   "source": [
    "crunchbase_2013_grouped = crunchbase_2013.groupby(['company_name']).agg({'raised_amount_usd': \"mean\"})"
   ]
  },
  {
   "cell_type": "code",
   "execution_count": 120,
   "metadata": {},
   "outputs": [
    {
     "data": {
      "image/png": "[encoded data removed]",
      "text/plain": [
       "<matplotlib.figure.Figure at 0x1c101513c8>"
      ]
     },
     "metadata": {},
     "output_type": "display_data"
    }
   ],
   "source": [
    "crunchbase_2013_after2000 = crunchbase_2013[(crunchbase_2013['funded_year'] >= 2000)]\n",
    "crunchbase_2013_year = crunchbase_2013_after2000.groupby(['funded_year']).agg({'raised_amount_usd': \"sum\"})\n",
    "\n",
    "plt.figure(figsize=(16,8))\n",
    "plt.plot(crunchbase_2013_year, color=\"black\")\n",
    "plt.xlabel('year', fontsize=14)\n",
    "plt.ylabel('sum of funding (USD)', fontsize=14)\n",
    "plt.tight_layout()\n",
    "plt.savefig('sum_funding.png', dpi=300, transparent=True)"
   ]
  },
  {
   "cell_type": "code",
   "execution_count": 78,
   "metadata": {},
   "outputs": [
    {
     "data": {
      "image/png": "[encoded data removed]",
      "text/plain": [
       "<matplotlib.figure.Figure at 0x1c146352b0>"
      ]
     },
     "metadata": {},
     "output_type": "display_data"
    }
   ],
   "source": [
    "crunchbase_2013_year = crunchbase_2013_after2000.groupby(['funded_year']).agg({'raised_amount_usd': \"median\"})\n",
    "\n",
    "plt.figure(figsize=(16,8))\n",
    "plt.plot(crunchbase_2013_year, color=\"black\")\n",
    "plt.xlabel('year', fontsize=14)\n",
    "plt.ylabel('median funding (USD)', fontsize=14)\n",
    "plt.tight_layout()\n",
    "plt.savefig('median_funding.png', dpi=300, transparent=True)"
   ]
  },
  {
   "cell_type": "markdown",
   "metadata": {},
   "source": [
    "# Making Predictions for Closed Startups"
   ]
  },
  {
   "cell_type": "code",
   "execution_count": 79,
   "metadata": {},
   "outputs": [],
   "source": [
    "st_fin = startups[['market', \n",
    "                   'funding_total_usd',\n",
    "                   'country_code',\n",
    "                   'city',\n",
    "                   'funding_rounds', \n",
    "                   'founded_year', \n",
    "                   'crunchbase_uuid',\n",
    "                   'closed',\n",
    "                   'time_between_fundings',\n",
    "                   'age']].dropna()"
   ]
  },
  {
   "cell_type": "code",
   "execution_count": 80,
   "metadata": {},
   "outputs": [],
   "source": [
    "st_status = st_fin[['closed']]\n",
    "st_features = st_fin[['market',\n",
    "                      'funding_total_usd',\n",
    "                      'country_code',\n",
    "                      'funding_rounds',\n",
    "                     'founded_year',\n",
    "                      'crunchbase_uuid', \n",
    "                      'age',\n",
    "                      'time_between_fundings'\n",
    "                     ]]"
   ]
  },
  {
   "cell_type": "code",
   "execution_count": 81,
   "metadata": {},
   "outputs": [
    {
     "data": {
      "text/plain": [
       "0    19465\n",
       "1      512\n",
       "Name: closed, dtype: int64"
      ]
     },
     "execution_count": 81,
     "metadata": {},
     "output_type": "execute_result"
    }
   ],
   "source": [
    "st_status.closed.value_counts()"
   ]
  },
  {
   "cell_type": "code",
   "execution_count": 82,
   "metadata": {},
   "outputs": [
    {
     "data": {
      "text/html": [
       "<div>\n",
       "<style scoped>\n",
       "    .dataframe tbody tr th:only-of-type {\n",
       "        vertical-align: middle;\n",
       "    }\n",
       "\n",
       "    .dataframe tbody tr th {\n",
       "        vertical-align: top;\n",
       "    }\n",
       "\n",
       "    .dataframe thead th {\n",
       "        text-align: right;\n",
       "    }\n",
       "</style>\n",
       "<table border=\"1\" class=\"dataframe\">\n",
       "  <thead>\n",
       "    <tr style=\"text-align: right;\">\n",
       "      <th></th>\n",
       "      <th>funding_total_usd</th>\n",
       "      <th>funding_rounds</th>\n",
       "      <th>founded_year</th>\n",
       "      <th>crunchbase_uuid</th>\n",
       "      <th>age</th>\n",
       "      <th>time_between_fundings</th>\n",
       "    </tr>\n",
       "  </thead>\n",
       "  <tbody>\n",
       "    <tr>\n",
       "      <th>count</th>\n",
       "      <td>19977.0000</td>\n",
       "      <td>19977.0000</td>\n",
       "      <td>19977.0000</td>\n",
       "      <td>19977.0000</td>\n",
       "      <td>19977.0000</td>\n",
       "      <td>19977.0000</td>\n",
       "    </tr>\n",
       "    <tr>\n",
       "      <th>mean</th>\n",
       "      <td>13542054.3931</td>\n",
       "      <td>1.9629</td>\n",
       "      <td>2009.1829</td>\n",
       "      <td>3.8357</td>\n",
       "      <td>8.8171</td>\n",
       "      <td>409.8979</td>\n",
       "    </tr>\n",
       "    <tr>\n",
       "      <th>std</th>\n",
       "      <td>71424398.3038</td>\n",
       "      <td>1.4909</td>\n",
       "      <td>3.2221</td>\n",
       "      <td>6.7672</td>\n",
       "      <td>3.2221</td>\n",
       "      <td>677.0856</td>\n",
       "    </tr>\n",
       "    <tr>\n",
       "      <th>min</th>\n",
       "      <td>0.0000</td>\n",
       "      <td>1.0000</td>\n",
       "      <td>2001.0000</td>\n",
       "      <td>1.0000</td>\n",
       "      <td>4.0000</td>\n",
       "      <td>0.0000</td>\n",
       "    </tr>\n",
       "    <tr>\n",
       "      <th>25%</th>\n",
       "      <td>100000.0000</td>\n",
       "      <td>1.0000</td>\n",
       "      <td>2007.0000</td>\n",
       "      <td>1.0000</td>\n",
       "      <td>6.0000</td>\n",
       "      <td>0.0000</td>\n",
       "    </tr>\n",
       "    <tr>\n",
       "      <th>50%</th>\n",
       "      <td>1200000.0000</td>\n",
       "      <td>1.0000</td>\n",
       "      <td>2010.0000</td>\n",
       "      <td>3.0000</td>\n",
       "      <td>8.0000</td>\n",
       "      <td>0.0000</td>\n",
       "    </tr>\n",
       "    <tr>\n",
       "      <th>75%</th>\n",
       "      <td>7335875.0000</td>\n",
       "      <td>2.0000</td>\n",
       "      <td>2012.0000</td>\n",
       "      <td>4.0000</td>\n",
       "      <td>11.0000</td>\n",
       "      <td>630.0000</td>\n",
       "    </tr>\n",
       "    <tr>\n",
       "      <th>max</th>\n",
       "      <td>5700000000.0000</td>\n",
       "      <td>17.0000</td>\n",
       "      <td>2014.0000</td>\n",
       "      <td>536.0000</td>\n",
       "      <td>17.0000</td>\n",
       "      <td>19578.0000</td>\n",
       "    </tr>\n",
       "  </tbody>\n",
       "</table>\n",
       "</div>"
      ],
      "text/plain": [
       "       funding_total_usd  funding_rounds  founded_year  crunchbase_uuid  \\\n",
       "count         19977.0000      19977.0000    19977.0000       19977.0000   \n",
       "mean       13542054.3931          1.9629     2009.1829           3.8357   \n",
       "std        71424398.3038          1.4909        3.2221           6.7672   \n",
       "min               0.0000          1.0000     2001.0000           1.0000   \n",
       "25%          100000.0000          1.0000     2007.0000           1.0000   \n",
       "50%         1200000.0000          1.0000     2010.0000           3.0000   \n",
       "75%         7335875.0000          2.0000     2012.0000           4.0000   \n",
       "max      5700000000.0000         17.0000     2014.0000         536.0000   \n",
       "\n",
       "             age  time_between_fundings  \n",
       "count 19977.0000             19977.0000  \n",
       "mean      8.8171               409.8979  \n",
       "std       3.2221               677.0856  \n",
       "min       4.0000                 0.0000  \n",
       "25%       6.0000                 0.0000  \n",
       "50%       8.0000                 0.0000  \n",
       "75%      11.0000               630.0000  \n",
       "max      17.0000             19578.0000  "
      ]
     },
     "execution_count": 82,
     "metadata": {},
     "output_type": "execute_result"
    }
   ],
   "source": [
    "st_features.describe()"
   ]
  },
  {
   "cell_type": "code",
   "execution_count": 83,
   "metadata": {},
   "outputs": [],
   "source": [
    "st_features = pd.get_dummies(st_features)"
   ]
  },
  {
   "cell_type": "code",
   "execution_count": 84,
   "metadata": {},
   "outputs": [],
   "source": [
    "st_master = pd.concat([st_status,st_features],axis=1)"
   ]
  },
  {
   "cell_type": "code",
   "execution_count": 85,
   "metadata": {},
   "outputs": [
    {
     "data": {
      "text/html": [
       "<div>\n",
       "<style scoped>\n",
       "    .dataframe tbody tr th:only-of-type {\n",
       "        vertical-align: middle;\n",
       "    }\n",
       "\n",
       "    .dataframe tbody tr th {\n",
       "        vertical-align: top;\n",
       "    }\n",
       "\n",
       "    .dataframe thead th {\n",
       "        text-align: right;\n",
       "    }\n",
       "</style>\n",
       "<table border=\"1\" class=\"dataframe\">\n",
       "  <thead>\n",
       "    <tr style=\"text-align: right;\">\n",
       "      <th></th>\n",
       "      <th>closed</th>\n",
       "      <th>funding_total_usd</th>\n",
       "      <th>funding_rounds</th>\n",
       "      <th>founded_year</th>\n",
       "      <th>crunchbase_uuid</th>\n",
       "      <th>age</th>\n",
       "      <th>time_between_fundings</th>\n",
       "      <th>market_ 3D</th>\n",
       "      <th>market_ 3D Printing</th>\n",
       "      <th>market_ 3D Technology</th>\n",
       "      <th>...</th>\n",
       "      <th>country_code_TUR</th>\n",
       "      <th>country_code_TWN</th>\n",
       "      <th>country_code_TZA</th>\n",
       "      <th>country_code_UGA</th>\n",
       "      <th>country_code_UKR</th>\n",
       "      <th>country_code_URY</th>\n",
       "      <th>country_code_USA</th>\n",
       "      <th>country_code_UZB</th>\n",
       "      <th>country_code_VNM</th>\n",
       "      <th>country_code_ZAF</th>\n",
       "    </tr>\n",
       "  </thead>\n",
       "  <tbody>\n",
       "    <tr>\n",
       "      <th>0</th>\n",
       "      <td>0</td>\n",
       "      <td>1750000</td>\n",
       "      <td>1</td>\n",
       "      <td>2012</td>\n",
       "      <td>2</td>\n",
       "      <td>6</td>\n",
       "      <td>0</td>\n",
       "      <td>0</td>\n",
       "      <td>0</td>\n",
       "      <td>0</td>\n",
       "      <td>...</td>\n",
       "      <td>0</td>\n",
       "      <td>0</td>\n",
       "      <td>0</td>\n",
       "      <td>0</td>\n",
       "      <td>0</td>\n",
       "      <td>0</td>\n",
       "      <td>1</td>\n",
       "      <td>0</td>\n",
       "      <td>0</td>\n",
       "      <td>0</td>\n",
       "    </tr>\n",
       "    <tr>\n",
       "      <th>1</th>\n",
       "      <td>0</td>\n",
       "      <td>40000</td>\n",
       "      <td>1</td>\n",
       "      <td>2012</td>\n",
       "      <td>2</td>\n",
       "      <td>6</td>\n",
       "      <td>0</td>\n",
       "      <td>0</td>\n",
       "      <td>0</td>\n",
       "      <td>0</td>\n",
       "      <td>...</td>\n",
       "      <td>0</td>\n",
       "      <td>0</td>\n",
       "      <td>0</td>\n",
       "      <td>0</td>\n",
       "      <td>0</td>\n",
       "      <td>0</td>\n",
       "      <td>0</td>\n",
       "      <td>0</td>\n",
       "      <td>0</td>\n",
       "      <td>0</td>\n",
       "    </tr>\n",
       "    <tr>\n",
       "      <th>2</th>\n",
       "      <td>0</td>\n",
       "      <td>1500000</td>\n",
       "      <td>1</td>\n",
       "      <td>2011</td>\n",
       "      <td>3</td>\n",
       "      <td>7</td>\n",
       "      <td>0</td>\n",
       "      <td>0</td>\n",
       "      <td>0</td>\n",
       "      <td>0</td>\n",
       "      <td>...</td>\n",
       "      <td>0</td>\n",
       "      <td>0</td>\n",
       "      <td>0</td>\n",
       "      <td>0</td>\n",
       "      <td>0</td>\n",
       "      <td>0</td>\n",
       "      <td>0</td>\n",
       "      <td>0</td>\n",
       "      <td>0</td>\n",
       "      <td>0</td>\n",
       "    </tr>\n",
       "    <tr>\n",
       "      <th>3</th>\n",
       "      <td>0</td>\n",
       "      <td>10000</td>\n",
       "      <td>1</td>\n",
       "      <td>2014</td>\n",
       "      <td>1</td>\n",
       "      <td>4</td>\n",
       "      <td>0</td>\n",
       "      <td>0</td>\n",
       "      <td>0</td>\n",
       "      <td>0</td>\n",
       "      <td>...</td>\n",
       "      <td>0</td>\n",
       "      <td>0</td>\n",
       "      <td>0</td>\n",
       "      <td>0</td>\n",
       "      <td>0</td>\n",
       "      <td>0</td>\n",
       "      <td>1</td>\n",
       "      <td>0</td>\n",
       "      <td>0</td>\n",
       "      <td>0</td>\n",
       "    </tr>\n",
       "    <tr>\n",
       "      <th>4</th>\n",
       "      <td>0</td>\n",
       "      <td>7000000</td>\n",
       "      <td>1</td>\n",
       "      <td>2011</td>\n",
       "      <td>1</td>\n",
       "      <td>7</td>\n",
       "      <td>0</td>\n",
       "      <td>0</td>\n",
       "      <td>0</td>\n",
       "      <td>0</td>\n",
       "      <td>...</td>\n",
       "      <td>0</td>\n",
       "      <td>0</td>\n",
       "      <td>0</td>\n",
       "      <td>0</td>\n",
       "      <td>0</td>\n",
       "      <td>0</td>\n",
       "      <td>1</td>\n",
       "      <td>0</td>\n",
       "      <td>0</td>\n",
       "      <td>0</td>\n",
       "    </tr>\n",
       "  </tbody>\n",
       "</table>\n",
       "<p>5 rows × 758 columns</p>\n",
       "</div>"
      ],
      "text/plain": [
       "   closed  funding_total_usd  funding_rounds  founded_year  crunchbase_uuid  \\\n",
       "0       0            1750000               1          2012                2   \n",
       "1       0              40000               1          2012                2   \n",
       "2       0            1500000               1          2011                3   \n",
       "3       0              10000               1          2014                1   \n",
       "4       0            7000000               1          2011                1   \n",
       "\n",
       "   age  time_between_fundings  market_ 3D   market_ 3D Printing   \\\n",
       "0    6                      0            0                     0   \n",
       "1    6                      0            0                     0   \n",
       "2    7                      0            0                     0   \n",
       "3    4                      0            0                     0   \n",
       "4    7                      0            0                     0   \n",
       "\n",
       "   market_ 3D Technology         ...         country_code_TUR  \\\n",
       "0                       0        ...                        0   \n",
       "1                       0        ...                        0   \n",
       "2                       0        ...                        0   \n",
       "3                       0        ...                        0   \n",
       "4                       0        ...                        0   \n",
       "\n",
       "   country_code_TWN  country_code_TZA  country_code_UGA  country_code_UKR  \\\n",
       "0                 0                 0                 0                 0   \n",
       "1                 0                 0                 0                 0   \n",
       "2                 0                 0                 0                 0   \n",
       "3                 0                 0                 0                 0   \n",
       "4                 0                 0                 0                 0   \n",
       "\n",
       "   country_code_URY  country_code_USA  country_code_UZB  country_code_VNM  \\\n",
       "0                 0                 1                 0                 0   \n",
       "1                 0                 0                 0                 0   \n",
       "2                 0                 0                 0                 0   \n",
       "3                 0                 1                 0                 0   \n",
       "4                 0                 1                 0                 0   \n",
       "\n",
       "   country_code_ZAF  \n",
       "0                 0  \n",
       "1                 0  \n",
       "2                 0  \n",
       "3                 0  \n",
       "4                 0  \n",
       "\n",
       "[5 rows x 758 columns]"
      ]
     },
     "execution_count": 85,
     "metadata": {},
     "output_type": "execute_result"
    }
   ],
   "source": [
    "st_master.head()"
   ]
  },
  {
   "cell_type": "code",
   "execution_count": 86,
   "metadata": {},
   "outputs": [
    {
     "data": {
      "text/plain": [
       "1    512\n",
       "0    512\n",
       "Name: closed, dtype: int64"
      ]
     },
     "execution_count": 86,
     "metadata": {},
     "output_type": "execute_result"
    }
   ],
   "source": [
    "# Balancing data for Machine Learning to avoid bias\n",
    "\n",
    "# Separate majority and minority classes\n",
    "closed_majority = st_master[st_master.closed==0]\n",
    "closed_minority = st_master[st_master.closed==1]\n",
    " \n",
    "# Downsample majority class\n",
    "closed_majority_downsampled = resample(closed_majority, \n",
    "                                 replace=False,    # sample without replacement\n",
    "                                 n_samples=512,     # to match minority class\n",
    "                                 random_state=123) # reproducible results\n",
    " \n",
    "# Combine minority class with downsampled majority class\n",
    "closed_downsampled = pd.concat([closed_majority_downsampled, closed_minority])\n",
    " \n",
    "# Display new class counts\n",
    "closed_downsampled.closed.value_counts()"
   ]
  },
  {
   "cell_type": "code",
   "execution_count": 87,
   "metadata": {},
   "outputs": [],
   "source": [
    "X_log_closed = closed_downsampled.loc[:,'funding_total_usd':]\n",
    "y_log_closed = closed_downsampled['closed']"
   ]
  },
  {
   "cell_type": "code",
   "execution_count": 88,
   "metadata": {},
   "outputs": [],
   "source": [
    "selector_f = SelectKBest(f_regression, k='all')\n",
    "selector_f.fit(X_log_closed, y_log_closed)\n",
    "\n",
    "name_var = [X_log_closed.columns]\n",
    "var_score = selector_f.scores_\n",
    "\n",
    "kbest = pd.DataFrame(var_score, name_var).sort_values(by=0, ascending=False).head(5).reset_index()\n",
    "kbest.columns = ['var', 'score']"
   ]
  },
  {
   "cell_type": "code",
   "execution_count": 89,
   "metadata": {},
   "outputs": [],
   "source": [
    "f_reg_var = kbest['var'].tolist()"
   ]
  },
  {
   "cell_type": "code",
   "execution_count": 90,
   "metadata": {},
   "outputs": [
    {
     "data": {
      "text/plain": [
       "['crunchbase_uuid',\n",
       " 'time_between_fundings',\n",
       " 'market_ Biotechnology ',\n",
       " 'funding_rounds',\n",
       " 'market_ Social Media ']"
      ]
     },
     "execution_count": 90,
     "metadata": {},
     "output_type": "execute_result"
    }
   ],
   "source": [
    "f_reg_var"
   ]
  },
  {
   "cell_type": "code",
   "execution_count": 91,
   "metadata": {},
   "outputs": [
    {
     "name": "stdout",
     "output_type": "stream",
     "text": [
      "Optimization terminated successfully.\n",
      "         Current function value: 0.656749\n",
      "         Iterations 6\n",
      "                           Logit Regression Results                           \n",
      "==============================================================================\n",
      "Dep. Variable:                 closed   No. Observations:                 1024\n",
      "Model:                          Logit   Df Residuals:                     1019\n",
      "Method:                           MLE   Df Model:                            4\n",
      "Date:                Mon, 02 Jul 2018   Pseudo R-squ.:                 0.05251\n",
      "Time:                        21:49:56   Log-Likelihood:                -672.51\n",
      "converged:                       True   LL-Null:                       -709.78\n",
      "                                        LLR p-value:                 2.488e-15\n",
      "==========================================================================================\n",
      "                             coef    std err          z      P>|z|      [0.025      0.975]\n",
      "------------------------------------------------------------------------------------------\n",
      "crunchbase_uuid           -0.1393      0.027     -5.178      0.000      -0.192      -0.087\n",
      "time_between_fundings     -0.0006      0.000     -3.487      0.000      -0.001      -0.000\n",
      "market_ Biotechnology     -0.8764      0.272     -3.225      0.001      -1.409      -0.344\n",
      "funding_rounds             0.2699      0.064      4.191      0.000       0.144       0.396\n",
      "market_ Social Media       1.0941      0.374      2.927      0.003       0.361       1.827\n",
      "==========================================================================================\n"
     ]
    }
   ],
   "source": [
    "closed_log = sm.Logit(closed_downsampled['closed'], closed_downsampled[f_reg_var]).fit()\n",
    "print(closed_log.summary())"
   ]
  },
  {
   "cell_type": "code",
   "execution_count": 92,
   "metadata": {},
   "outputs": [
    {
     "name": "stdout",
     "output_type": "stream",
     "text": [
      "(716, 5) (716,)\n",
      "(308, 5) (308,)\n"
     ]
    }
   ],
   "source": [
    "master_closed = sklearn.utils.resample(closed_downsampled, random_state=5)\n",
    "\n",
    "X_closed = master_closed[f_reg_var]\n",
    "\n",
    "y_closed = master_closed['closed']\n",
    "\n",
    "X_closed_train, X_closed_test, y_closed_train, y_closed_test = train_test_split(X_closed, \n",
    "                                                                                        y_closed,\n",
    "                                                                                        test_size=0.3,\n",
    "                                                                                        random_state=5)\n",
    "\n",
    "print(X_closed_train.shape, y_closed_train.shape)\n",
    "print(X_closed_test.shape, y_closed_test.shape)"
   ]
  },
  {
   "cell_type": "code",
   "execution_count": 93,
   "metadata": {},
   "outputs": [
    {
     "name": "stdout",
     "output_type": "stream",
     "text": [
      "Score: 0.6136363636363636\n"
     ]
    }
   ],
   "source": [
    "# Making predictions\n",
    "logit = LogisticRegression()\n",
    "model = logit.fit(X_closed_train, y_closed_train)\n",
    "predictions = logit.predict(X_closed_test)\n",
    "print(\"Score:\", model.score(X_closed_test, y_closed_test))"
   ]
  },
  {
   "cell_type": "code",
   "execution_count": 94,
   "metadata": {},
   "outputs": [
    {
     "name": "stdout",
     "output_type": "stream",
     "text": [
      "10-fold cross validation average accuracy: 0.623\n",
      "10-fold cross validation average precision: 0.590\n",
      "10-fold cross validation average recall: 0.736\n"
     ]
    }
   ],
   "source": [
    "kfold = model_selection.KFold(n_splits=10, random_state=5)\n",
    "results_logit_acc = model_selection.cross_val_score(logit, X_closed_train, y_closed_train, cv=kfold, scoring='accuracy')\n",
    "results_logit_pre = model_selection.cross_val_score(logit, X_closed_train, y_closed_train, cv=kfold, scoring='precision')\n",
    "results_logit_rec = model_selection.cross_val_score(logit, X_closed_train, y_closed_train, cv=kfold, scoring='recall')\n",
    "\n",
    "print(\"10-fold cross validation average accuracy: %.3f\" % (results_logit_acc.mean()))\n",
    "print(\"10-fold cross validation average precision: %.3f\" % (results_logit_pre.mean()))\n",
    "print(\"10-fold cross validation average recall: %.3f\" % (results_logit_rec.mean()))"
   ]
  },
  {
   "cell_type": "code",
   "execution_count": 95,
   "metadata": {},
   "outputs": [
    {
     "name": "stdout",
     "output_type": "stream",
     "text": [
      "Normalized confusion matrix\n",
      "[[0.50285714 0.49714286]\n",
      " [0.2406015  0.7593985 ]]\n"
     ]
    },
    {
     "data": {
      "image/png": "[encoded data removed]",
      "text/plain": [
       "<matplotlib.figure.Figure at 0x1c12c95160>"
      ]
     },
     "metadata": {},
     "output_type": "display_data"
    }
   ],
   "source": [
    "confusion_matrix_log = confusion_matrix(y_closed_test, predictions)\n",
    "\n",
    "def plot_confusion_matrix(cm, classes,\n",
    "                          normalize=False,\n",
    "                          title='Confusion matrix',\n",
    "                          cmap=plt.cm.Blues):\n",
    "    \"\"\"\n",
    "    This function prints and plots the confusion matrix.\n",
    "    Normalization can be applied by setting `normalize=True`.\n",
    "    \"\"\"\n",
    "    if normalize:\n",
    "        cm = cm.astype('float') / cm.sum(axis=1)[:, np.newaxis]\n",
    "        print(\"Normalized confusion matrix\")\n",
    "    else:\n",
    "        print('Confusion matrix, without normalization')\n",
    "\n",
    "    print(cm)\n",
    "\n",
    "    plt.imshow(cm, interpolation='nearest', cmap=cmap)\n",
    "    plt.title(title)\n",
    "    plt.colorbar(fraction=0.046, pad=0.04)\n",
    "    tick_marks = np.arange(len(classes))\n",
    "    plt.xticks(tick_marks, classes, rotation=45)\n",
    "    plt.yticks(tick_marks, classes)\n",
    "\n",
    "    fmt = '.2f' if normalize else 'd'\n",
    "    thresh = cm.max() / 2.\n",
    "    for i, j in itertools.product(range(cm.shape[0]), range(cm.shape[1])):\n",
    "        plt.text(j, i, format(cm[i, j], fmt),\n",
    "                 horizontalalignment=\"center\",\n",
    "                 color=\"white\" if cm[i, j] > thresh else \"black\")\n",
    "\n",
    "    plt.tight_layout()\n",
    "    plt.ylabel('True label')\n",
    "    plt.xlabel('Predicted label')\n",
    "\n",
    "class_names=[\"non_closed\",\"closed\"]    \n",
    "\n",
    "# Plot non-normalized confusion matrix\n",
    "#plt.figure(figsize=(8,8))\n",
    "#plot_confusion_matrix(confusion_matrix_log, classes=class_names,\n",
    "#                      title='Confusion matrix, without normalization')\n",
    "\n",
    "# Plot normalized confusion matrix\n",
    "plt.figure(figsize=(8,8))\n",
    "plot_confusion_matrix(confusion_matrix_log, classes=class_names, normalize=True,\n",
    "                      title='Normalised confusion matrix')\n",
    "plt.savefig('confusion_matrix.png', dpi=300, transparent=True)\n",
    "plt.show()"
   ]
  },
  {
   "cell_type": "code",
   "execution_count": 96,
   "metadata": {},
   "outputs": [
    {
     "data": {
      "text/html": [
       "<div>\n",
       "<style scoped>\n",
       "    .dataframe tbody tr th:only-of-type {\n",
       "        vertical-align: middle;\n",
       "    }\n",
       "\n",
       "    .dataframe tbody tr th {\n",
       "        vertical-align: top;\n",
       "    }\n",
       "\n",
       "    .dataframe thead th {\n",
       "        text-align: right;\n",
       "    }\n",
       "</style>\n",
       "<table border=\"1\" class=\"dataframe\">\n",
       "  <thead>\n",
       "    <tr style=\"text-align: right;\">\n",
       "      <th></th>\n",
       "      <th>market</th>\n",
       "      <th>funding_total_usd</th>\n",
       "      <th>country_code</th>\n",
       "      <th>city</th>\n",
       "      <th>funding_rounds</th>\n",
       "      <th>founded_year</th>\n",
       "      <th>crunchbase_uuid</th>\n",
       "      <th>closed</th>\n",
       "      <th>time_between_fundings</th>\n",
       "      <th>age</th>\n",
       "    </tr>\n",
       "  </thead>\n",
       "  <tbody>\n",
       "    <tr>\n",
       "      <th>0</th>\n",
       "      <td>News</td>\n",
       "      <td>1750000</td>\n",
       "      <td>USA</td>\n",
       "      <td>New York</td>\n",
       "      <td>1</td>\n",
       "      <td>2012</td>\n",
       "      <td>2</td>\n",
       "      <td>0</td>\n",
       "      <td>0</td>\n",
       "      <td>6</td>\n",
       "    </tr>\n",
       "    <tr>\n",
       "      <th>1</th>\n",
       "      <td>Publishing</td>\n",
       "      <td>40000</td>\n",
       "      <td>EST</td>\n",
       "      <td>Tallinn</td>\n",
       "      <td>1</td>\n",
       "      <td>2012</td>\n",
       "      <td>2</td>\n",
       "      <td>0</td>\n",
       "      <td>0</td>\n",
       "      <td>6</td>\n",
       "    </tr>\n",
       "    <tr>\n",
       "      <th>2</th>\n",
       "      <td>Electronics</td>\n",
       "      <td>1500000</td>\n",
       "      <td>GBR</td>\n",
       "      <td>London</td>\n",
       "      <td>1</td>\n",
       "      <td>2011</td>\n",
       "      <td>3</td>\n",
       "      <td>0</td>\n",
       "      <td>0</td>\n",
       "      <td>7</td>\n",
       "    </tr>\n",
       "    <tr>\n",
       "      <th>3</th>\n",
       "      <td>Games</td>\n",
       "      <td>10000</td>\n",
       "      <td>USA</td>\n",
       "      <td>Fort Worth</td>\n",
       "      <td>1</td>\n",
       "      <td>2014</td>\n",
       "      <td>1</td>\n",
       "      <td>0</td>\n",
       "      <td>0</td>\n",
       "      <td>4</td>\n",
       "    </tr>\n",
       "    <tr>\n",
       "      <th>4</th>\n",
       "      <td>Software</td>\n",
       "      <td>7000000</td>\n",
       "      <td>USA</td>\n",
       "      <td>Oakland Park</td>\n",
       "      <td>1</td>\n",
       "      <td>2011</td>\n",
       "      <td>1</td>\n",
       "      <td>0</td>\n",
       "      <td>0</td>\n",
       "      <td>7</td>\n",
       "    </tr>\n",
       "  </tbody>\n",
       "</table>\n",
       "</div>"
      ],
      "text/plain": [
       "          market  funding_total_usd country_code          city  \\\n",
       "0          News             1750000          USA      New York   \n",
       "1    Publishing               40000          EST       Tallinn   \n",
       "2   Electronics             1500000          GBR        London   \n",
       "3         Games               10000          USA    Fort Worth   \n",
       "4      Software             7000000          USA  Oakland Park   \n",
       "\n",
       "   funding_rounds  founded_year  crunchbase_uuid  closed  \\\n",
       "0               1          2012                2       0   \n",
       "1               1          2012                2       0   \n",
       "2               1          2011                3       0   \n",
       "3               1          2014                1       0   \n",
       "4               1          2011                1       0   \n",
       "\n",
       "   time_between_fundings  age  \n",
       "0                      0    6  \n",
       "1                      0    6  \n",
       "2                      0    7  \n",
       "3                      0    4  \n",
       "4                      0    7  "
      ]
     },
     "execution_count": 96,
     "metadata": {},
     "output_type": "execute_result"
    }
   ],
   "source": [
    "st_fin.head()"
   ]
  },
  {
   "cell_type": "code",
   "execution_count": 97,
   "metadata": {},
   "outputs": [],
   "source": [
    "markets = st_fin.groupby(['market']).agg({'market': \"count\",\n",
    "                                         'funding_total_usd': 'mean',\n",
    "                                         'country_code':'nunique',\n",
    "                                         'city':'nunique',\n",
    "                                         'funding_rounds':'mean',\n",
    "                                         'crunchbase_uuid':'mean',\n",
    "                                         'time_between_fundings':'mean',\n",
    "                                         'age':'mean',\n",
    "                                         'closed':'sum'})"
   ]
  },
  {
   "cell_type": "code",
   "execution_count": 98,
   "metadata": {},
   "outputs": [],
   "source": [
    "markets = markets.rename(columns={'market': 'number_companies'})"
   ]
  },
  {
   "cell_type": "code",
   "execution_count": 99,
   "metadata": {},
   "outputs": [],
   "source": [
    "markets = markets.reset_index()"
   ]
  },
  {
   "cell_type": "code",
   "execution_count": 100,
   "metadata": {},
   "outputs": [],
   "source": [
    "bio_soc = markets[(markets['market'] == ' Biotechnology ') | (markets['market'] == ' Social Media ')]"
   ]
  },
  {
   "cell_type": "code",
   "execution_count": 101,
   "metadata": {},
   "outputs": [],
   "source": [
    "bio_soc['companies/country'] = bio_soc['number_companies'] / bio_soc['country_code']\n",
    "bio_soc['companies/city'] = bio_soc['number_companies'] / bio_soc['city']\n",
    "bio_soc['closed_rate'] = bio_soc['closed'] / bio_soc['number_companies']"
   ]
  },
  {
   "cell_type": "code",
   "execution_count": 102,
   "metadata": {},
   "outputs": [],
   "source": [
    "bio_soc = bio_soc.rename(columns={'funding_total_usd': 'average_funding',\n",
    "                                 'country_code':'distinct_countries',\n",
    "                                 'city':'distinct_cities',\n",
    "                                 'funding_rounds':'average_funding_rounds',\n",
    "                                         'crunchbase_uuid':'avg_employees_on_crunchbase',\n",
    "                                         'time_between_fundings':'average_time_between_fundings',\n",
    "                                         'age':'average_age'})"
   ]
  },
  {
   "cell_type": "code",
   "execution_count": 103,
   "metadata": {},
   "outputs": [
    {
     "data": {
      "text/html": [
       "<div>\n",
       "<style scoped>\n",
       "    .dataframe tbody tr th:only-of-type {\n",
       "        vertical-align: middle;\n",
       "    }\n",
       "\n",
       "    .dataframe tbody tr th {\n",
       "        vertical-align: top;\n",
       "    }\n",
       "\n",
       "    .dataframe thead th {\n",
       "        text-align: right;\n",
       "    }\n",
       "</style>\n",
       "<table border=\"1\" class=\"dataframe\">\n",
       "  <thead>\n",
       "    <tr style=\"text-align: right;\">\n",
       "      <th></th>\n",
       "      <th>52</th>\n",
       "      <th>541</th>\n",
       "    </tr>\n",
       "  </thead>\n",
       "  <tbody>\n",
       "    <tr>\n",
       "      <th>market</th>\n",
       "      <td>Biotechnology</td>\n",
       "      <td>Social Media</td>\n",
       "    </tr>\n",
       "    <tr>\n",
       "      <th>number_companies</th>\n",
       "      <td>1470</td>\n",
       "      <td>411</td>\n",
       "    </tr>\n",
       "    <tr>\n",
       "      <th>average_funding</th>\n",
       "      <td>21118477.0422</td>\n",
       "      <td>5061708.6204</td>\n",
       "    </tr>\n",
       "    <tr>\n",
       "      <th>distinct_countries</th>\n",
       "      <td>30</td>\n",
       "      <td>47</td>\n",
       "    </tr>\n",
       "    <tr>\n",
       "      <th>distinct_cities</th>\n",
       "      <td>578</td>\n",
       "      <td>185</td>\n",
       "    </tr>\n",
       "    <tr>\n",
       "      <th>average_funding_rounds</th>\n",
       "      <td>2.3095</td>\n",
       "      <td>1.8054</td>\n",
       "    </tr>\n",
       "    <tr>\n",
       "      <th>avg_employees_on_crunchbase</th>\n",
       "      <td>3.2687</td>\n",
       "      <td>3.0146</td>\n",
       "    </tr>\n",
       "    <tr>\n",
       "      <th>average_time_between_fundings</th>\n",
       "      <td>578.3578</td>\n",
       "      <td>329.8078</td>\n",
       "    </tr>\n",
       "    <tr>\n",
       "      <th>average_age</th>\n",
       "      <td>10.4932</td>\n",
       "      <td>7.9586</td>\n",
       "    </tr>\n",
       "    <tr>\n",
       "      <th>closed</th>\n",
       "      <td>20</td>\n",
       "      <td>29</td>\n",
       "    </tr>\n",
       "    <tr>\n",
       "      <th>companies/country</th>\n",
       "      <td>49.0000</td>\n",
       "      <td>8.7447</td>\n",
       "    </tr>\n",
       "    <tr>\n",
       "      <th>companies/city</th>\n",
       "      <td>2.5433</td>\n",
       "      <td>2.2216</td>\n",
       "    </tr>\n",
       "    <tr>\n",
       "      <th>closed_rate</th>\n",
       "      <td>0.0136</td>\n",
       "      <td>0.0706</td>\n",
       "    </tr>\n",
       "  </tbody>\n",
       "</table>\n",
       "</div>"
      ],
      "text/plain": [
       "                                           52              541\n",
       "market                          Biotechnology    Social Media \n",
       "number_companies                          1470             411\n",
       "average_funding                  21118477.0422    5061708.6204\n",
       "distinct_countries                          30              47\n",
       "distinct_cities                            578             185\n",
       "average_funding_rounds                  2.3095          1.8054\n",
       "avg_employees_on_crunchbase             3.2687          3.0146\n",
       "average_time_between_fundings         578.3578        329.8078\n",
       "average_age                            10.4932          7.9586\n",
       "closed                                      20              29\n",
       "companies/country                      49.0000          8.7447\n",
       "companies/city                          2.5433          2.2216\n",
       "closed_rate                             0.0136          0.0706"
      ]
     },
     "execution_count": 103,
     "metadata": {},
     "output_type": "execute_result"
    }
   ],
   "source": [
    "bio_soc.transpose()"
   ]
  },
  {
   "cell_type": "code",
   "execution_count": 104,
   "metadata": {},
   "outputs": [
    {
     "data": {
      "image/png": "[encoded data removed]",
      "text/plain": [
       "<matplotlib.figure.Figure at 0x1c10151470>"
      ]
     },
     "metadata": {},
     "output_type": "display_data"
    }
   ],
   "source": [
    "biotech = crunchbase_2013_after2000[(crunchbase_2013_after2000['company_category_code'] == 'biotech')]\n",
    "biotech_fund = biotech.groupby(['funded_year']).agg({'raised_amount_usd': \"sum\"})\n",
    "\n",
    "socmedia = crunchbase_2013_after2000[(crunchbase_2013_after2000['company_category_code'] == 'social')]\n",
    "socmedia_fund = socmedia.groupby(['funded_year']).agg({'raised_amount_usd': \"sum\"})\n",
    "\n",
    "plt.figure(figsize=(16,8))\n",
    "plt.plot(biotech_fund, color=\"black\")\n",
    "plt.plot(socmedia_fund, color=\"gray\")\n",
    "plt.yscale('log')\n",
    "plt.xlabel('year', fontsize=14)\n",
    "plt.ylabel('log of funding (USD)', fontsize=14)\n",
    "plt.tight_layout()\n",
    "plt.savefig('funding_biotech-vs-social.png', dpi=300, transparent=True)"
   ]
  },
  {
   "cell_type": "code",
   "execution_count": 105,
   "metadata": {},
   "outputs": [],
   "source": [
    "biotech = st_fin[(st_fin['market'] == ' Biotechnology ')]\n",
    "social_media = st_fin[(st_fin['market'] == ' Social Media ')]"
   ]
  },
  {
   "cell_type": "code",
   "execution_count": 106,
   "metadata": {},
   "outputs": [
    {
     "data": {
      "text/plain": [
       "USA   0.8238\n",
       "GBR   0.0374\n",
       "CAN   0.0218\n",
       "FRA   0.0190\n",
       "DEU   0.0150\n",
       "Name: country_code, dtype: float64"
      ]
     },
     "execution_count": 106,
     "metadata": {},
     "output_type": "execute_result"
    }
   ],
   "source": [
    "biotech.country_code.value_counts(normalize=True).head(5)"
   ]
  },
  {
   "cell_type": "code",
   "execution_count": 107,
   "metadata": {},
   "outputs": [
    {
     "data": {
      "text/plain": [
       "USA   0.5645\n",
       "GBR   0.0584\n",
       "CAN   0.0365\n",
       "CHN   0.0292\n",
       "IND   0.0268\n",
       "Name: country_code, dtype: float64"
      ]
     },
     "execution_count": 107,
     "metadata": {},
     "output_type": "execute_result"
    }
   ],
   "source": [
    "social_media.country_code.value_counts(normalize=True).head(5)"
   ]
  },
  {
   "cell_type": "code",
   "execution_count": 108,
   "metadata": {},
   "outputs": [],
   "source": [
    "bs = st_fin[(st_fin['market'] == ' Biotechnology ') | (st_fin['market'] == ' Social Media ')] "
   ]
  },
  {
   "cell_type": "code",
   "execution_count": 109,
   "metadata": {},
   "outputs": [
    {
     "data": {
      "image/png": "[encoded data removed]",
      "text/plain": [
       "<matplotlib.figure.Figure at 0x1c124b6b38>"
      ]
     },
     "metadata": {},
     "output_type": "display_data"
    }
   ],
   "source": [
    "plt.figure(figsize=(16,8))\n",
    "sns.boxplot(x=\"market\", y=\"funding_total_usd\", data=bs, palette=\"Set3\")\n",
    "#plt.legend(handles=[US_median],fontsize=12)\n",
    "plt.xlabel('industry',fontsize=14)\n",
    "plt.ylabel('log of funding in USD',fontsize=14)\n",
    "plt.yscale('log')\n",
    "plt.tick_params(axis='both',labelsize=12)\n",
    "plt.title('Funding by industry',fontsize=14)\n",
    "plt.savefig('funding_biotech-vs-social_boxplot.png', dpi=300, transparent=True)"
   ]
  },
  {
   "cell_type": "code",
   "execution_count": null,
   "metadata": {},
   "outputs": [],
   "source": []
  }
 ],
 "metadata": {
  "kernelspec": {
   "display_name": "Python 3",
   "language": "python",
   "name": "python3"
  },
  "language_info": {
   "codemirror_mode": {
    "name": "ipython",
    "version": 3
   },
   "file_extension": ".py",
   "mimetype": "text/x-python",
   "name": "python",
   "nbconvert_exporter": "python",
   "pygments_lexer": "ipython3",
   "version": "3.6.4"
  }
 },
 "nbformat": 4,
 "nbformat_minor": 2
}
